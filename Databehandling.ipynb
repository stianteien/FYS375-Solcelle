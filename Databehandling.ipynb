{
 "cells": [
  {
   "cell_type": "markdown",
   "id": "ca6e621e",
   "metadata": {},
   "source": [
    "# FYS375 Modellering av solfanger\n",
    "Gruppe 3 - Høst 2021\n",
    "\n",
    "Likevektskrav:  \n",
    "Innstrålt +- 32  \n",
    "Ta =- 1.5  \n",
    "Tintlet -= 1  \n",
    "massestrøm =- 2% av maximal, eller +-1% av mean value"
   ]
  },
  {
   "cell_type": "code",
   "execution_count": 307,
   "id": "d73d6811",
   "metadata": {},
   "outputs": [],
   "source": [
    "import pandas as pd\n",
    "import numpy as np\n",
    "import matplotlib.pyplot as plt"
   ]
  },
  {
   "cell_type": "code",
   "execution_count": 102,
   "id": "93764a28",
   "metadata": {},
   "outputs": [
    {
     "data": {
      "text/html": [
       "<div>\n",
       "<style scoped>\n",
       "    .dataframe tbody tr th:only-of-type {\n",
       "        vertical-align: middle;\n",
       "    }\n",
       "\n",
       "    .dataframe tbody tr th {\n",
       "        vertical-align: top;\n",
       "    }\n",
       "\n",
       "    .dataframe thead th {\n",
       "        text-align: right;\n",
       "    }\n",
       "</style>\n",
       "<table border=\"1\" class=\"dataframe\">\n",
       "  <thead>\n",
       "    <tr style=\"text-align: right;\">\n",
       "      <th></th>\n",
       "      <th>Time</th>\n",
       "      <th>Irradiance (W/m2)</th>\n",
       "      <th>Ambient Temperature (C)</th>\n",
       "      <th>Inlet Temperature (C)</th>\n",
       "      <th>Mass flow (g/s)</th>\n",
       "      <th>Outlet Temperature (C)</th>\n",
       "    </tr>\n",
       "  </thead>\n",
       "  <tbody>\n",
       "    <tr>\n",
       "      <th>0</th>\n",
       "      <td>2020-03-01 00:01:00</td>\n",
       "      <td>0.0</td>\n",
       "      <td>0.4</td>\n",
       "      <td>15.6</td>\n",
       "      <td>107.0</td>\n",
       "      <td>23.6</td>\n",
       "    </tr>\n",
       "    <tr>\n",
       "      <th>1</th>\n",
       "      <td>2020-03-01 00:02:00</td>\n",
       "      <td>0.0</td>\n",
       "      <td>0.4</td>\n",
       "      <td>15.6</td>\n",
       "      <td>107.0</td>\n",
       "      <td>23.6</td>\n",
       "    </tr>\n",
       "    <tr>\n",
       "      <th>2</th>\n",
       "      <td>2020-03-01 00:03:00</td>\n",
       "      <td>0.0</td>\n",
       "      <td>0.4</td>\n",
       "      <td>15.6</td>\n",
       "      <td>107.0</td>\n",
       "      <td>23.6</td>\n",
       "    </tr>\n",
       "    <tr>\n",
       "      <th>3</th>\n",
       "      <td>2020-03-01 00:04:00</td>\n",
       "      <td>0.0</td>\n",
       "      <td>0.4</td>\n",
       "      <td>15.6</td>\n",
       "      <td>107.0</td>\n",
       "      <td>23.6</td>\n",
       "    </tr>\n",
       "    <tr>\n",
       "      <th>4</th>\n",
       "      <td>2020-03-01 00:05:00</td>\n",
       "      <td>0.0</td>\n",
       "      <td>0.4</td>\n",
       "      <td>15.6</td>\n",
       "      <td>107.0</td>\n",
       "      <td>23.6</td>\n",
       "    </tr>\n",
       "    <tr>\n",
       "      <th>...</th>\n",
       "      <td>...</td>\n",
       "      <td>...</td>\n",
       "      <td>...</td>\n",
       "      <td>...</td>\n",
       "      <td>...</td>\n",
       "      <td>...</td>\n",
       "    </tr>\n",
       "    <tr>\n",
       "      <th>220314</th>\n",
       "      <td>2020-07-31 23:55:00</td>\n",
       "      <td>-1.0</td>\n",
       "      <td>17.7</td>\n",
       "      <td>25.5</td>\n",
       "      <td>0.0</td>\n",
       "      <td>26.9</td>\n",
       "    </tr>\n",
       "    <tr>\n",
       "      <th>220315</th>\n",
       "      <td>2020-07-31 23:56:00</td>\n",
       "      <td>-1.0</td>\n",
       "      <td>17.8</td>\n",
       "      <td>25.5</td>\n",
       "      <td>0.0</td>\n",
       "      <td>26.9</td>\n",
       "    </tr>\n",
       "    <tr>\n",
       "      <th>220316</th>\n",
       "      <td>2020-07-31 23:57:00</td>\n",
       "      <td>-1.0</td>\n",
       "      <td>17.8</td>\n",
       "      <td>25.5</td>\n",
       "      <td>0.0</td>\n",
       "      <td>26.9</td>\n",
       "    </tr>\n",
       "    <tr>\n",
       "      <th>220317</th>\n",
       "      <td>2020-07-31 23:58:00</td>\n",
       "      <td>-1.0</td>\n",
       "      <td>17.8</td>\n",
       "      <td>25.5</td>\n",
       "      <td>0.0</td>\n",
       "      <td>26.9</td>\n",
       "    </tr>\n",
       "    <tr>\n",
       "      <th>220318</th>\n",
       "      <td>2020-07-31 23:59:00</td>\n",
       "      <td>-1.0</td>\n",
       "      <td>17.8</td>\n",
       "      <td>25.5</td>\n",
       "      <td>0.0</td>\n",
       "      <td>26.9</td>\n",
       "    </tr>\n",
       "  </tbody>\n",
       "</table>\n",
       "<p>220319 rows × 6 columns</p>\n",
       "</div>"
      ],
      "text/plain": [
       "                      Time  Irradiance (W/m2)  Ambient Temperature (C)  \\\n",
       "0      2020-03-01 00:01:00                0.0                      0.4   \n",
       "1      2020-03-01 00:02:00                0.0                      0.4   \n",
       "2      2020-03-01 00:03:00                0.0                      0.4   \n",
       "3      2020-03-01 00:04:00                0.0                      0.4   \n",
       "4      2020-03-01 00:05:00                0.0                      0.4   \n",
       "...                    ...                ...                      ...   \n",
       "220314 2020-07-31 23:55:00               -1.0                     17.7   \n",
       "220315 2020-07-31 23:56:00               -1.0                     17.8   \n",
       "220316 2020-07-31 23:57:00               -1.0                     17.8   \n",
       "220317 2020-07-31 23:58:00               -1.0                     17.8   \n",
       "220318 2020-07-31 23:59:00               -1.0                     17.8   \n",
       "\n",
       "        Inlet Temperature (C)  Mass flow (g/s)  Outlet Temperature (C)  \n",
       "0                        15.6            107.0                    23.6  \n",
       "1                        15.6            107.0                    23.6  \n",
       "2                        15.6            107.0                    23.6  \n",
       "3                        15.6            107.0                    23.6  \n",
       "4                        15.6            107.0                    23.6  \n",
       "...                       ...              ...                     ...  \n",
       "220314                   25.5              0.0                    26.9  \n",
       "220315                   25.5              0.0                    26.9  \n",
       "220316                   25.5              0.0                    26.9  \n",
       "220317                   25.5              0.0                    26.9  \n",
       "220318                   25.5              0.0                    26.9  \n",
       "\n",
       "[220319 rows x 6 columns]"
      ]
     },
     "execution_count": 102,
     "metadata": {},
     "output_type": "execute_result"
    }
   ],
   "source": [
    "data = pd.read_csv(\"Måledata_mars_juli_2020.csv\")\n",
    "data.Time = pd.to_datetime(data.Time)\n",
    "data"
   ]
  },
  {
   "cell_type": "code",
   "execution_count": 82,
   "id": "0ff07a4e",
   "metadata": {},
   "outputs": [],
   "source": [
    "data_irra = data[data[\"Irradiance (W/m2)\"] > 790]"
   ]
  },
  {
   "cell_type": "code",
   "execution_count": 341,
   "id": "45580507",
   "metadata": {},
   "outputs": [
    {
     "data": {
      "text/html": [
       "<div>\n",
       "<style scoped>\n",
       "    .dataframe tbody tr th:only-of-type {\n",
       "        vertical-align: middle;\n",
       "    }\n",
       "\n",
       "    .dataframe tbody tr th {\n",
       "        vertical-align: top;\n",
       "    }\n",
       "\n",
       "    .dataframe thead th {\n",
       "        text-align: right;\n",
       "    }\n",
       "</style>\n",
       "<table border=\"1\" class=\"dataframe\">\n",
       "  <thead>\n",
       "    <tr style=\"text-align: right;\">\n",
       "      <th></th>\n",
       "      <th>Time</th>\n",
       "      <th>Irradiance (W/m2)</th>\n",
       "      <th>Ambient Temperature (C)</th>\n",
       "      <th>Inlet Temperature (C)</th>\n",
       "      <th>Mass flow (g/s)</th>\n",
       "      <th>Outlet Temperature (C)</th>\n",
       "    </tr>\n",
       "  </thead>\n",
       "  <tbody>\n",
       "    <tr>\n",
       "      <th>12151</th>\n",
       "      <td>2020-03-09 10:32:00</td>\n",
       "      <td>851.0</td>\n",
       "      <td>6.7</td>\n",
       "      <td>26.0</td>\n",
       "      <td>0.0</td>\n",
       "      <td>23.75</td>\n",
       "    </tr>\n",
       "    <tr>\n",
       "      <th>12193</th>\n",
       "      <td>2020-03-09 11:14:00</td>\n",
       "      <td>828.0</td>\n",
       "      <td>6.7</td>\n",
       "      <td>26.4</td>\n",
       "      <td>0.0</td>\n",
       "      <td>23.95</td>\n",
       "    </tr>\n",
       "    <tr>\n",
       "      <th>12194</th>\n",
       "      <td>2020-03-09 11:15:00</td>\n",
       "      <td>872.0</td>\n",
       "      <td>6.8</td>\n",
       "      <td>26.3</td>\n",
       "      <td>0.0</td>\n",
       "      <td>23.95</td>\n",
       "    </tr>\n",
       "    <tr>\n",
       "      <th>12209</th>\n",
       "      <td>2020-03-09 11:30:00</td>\n",
       "      <td>909.0</td>\n",
       "      <td>7.2</td>\n",
       "      <td>25.6</td>\n",
       "      <td>0.0</td>\n",
       "      <td>23.85</td>\n",
       "    </tr>\n",
       "    <tr>\n",
       "      <th>12210</th>\n",
       "      <td>2020-03-09 11:31:00</td>\n",
       "      <td>804.0</td>\n",
       "      <td>7.4</td>\n",
       "      <td>25.6</td>\n",
       "      <td>0.0</td>\n",
       "      <td>23.85</td>\n",
       "    </tr>\n",
       "  </tbody>\n",
       "</table>\n",
       "</div>"
      ],
      "text/plain": [
       "                     Time  Irradiance (W/m2)  Ambient Temperature (C)  \\\n",
       "12151 2020-03-09 10:32:00              851.0                      6.7   \n",
       "12193 2020-03-09 11:14:00              828.0                      6.7   \n",
       "12194 2020-03-09 11:15:00              872.0                      6.8   \n",
       "12209 2020-03-09 11:30:00              909.0                      7.2   \n",
       "12210 2020-03-09 11:31:00              804.0                      7.4   \n",
       "\n",
       "       Inlet Temperature (C)  Mass flow (g/s)  Outlet Temperature (C)  \n",
       "12151                   26.0              0.0                   23.75  \n",
       "12193                   26.4              0.0                   23.95  \n",
       "12194                   26.3              0.0                   23.95  \n",
       "12209                   25.6              0.0                   23.85  \n",
       "12210                   25.6              0.0                   23.85  "
      ]
     },
     "execution_count": 341,
     "metadata": {},
     "output_type": "execute_result"
    }
   ],
   "source": [
    "data_irra.head()"
   ]
  },
  {
   "cell_type": "code",
   "execution_count": 128,
   "id": "3c355f80",
   "metadata": {},
   "outputs": [
    {
     "data": {
      "text/plain": [
       "array([[Timestamp('2020-03-09 10:32:00'), 851.0, 6.7, 26.0, 0.0, 23.75],\n",
       "       [Timestamp('2020-03-09 11:14:00'), 828.0, 6.7, 26.4, 0.0, 23.95],\n",
       "       [Timestamp('2020-03-09 11:15:00'), 872.0, 6.8, 26.3, 0.0, 23.95],\n",
       "       ...,\n",
       "       [Timestamp('2020-07-31 15:56:00'), 801.0, 24.8, 22.3, 345.0, 43.6],\n",
       "       [Timestamp('2020-07-31 15:57:00'), 799.0, 25.1, 22.3, 352.0, 43.6],\n",
       "       [Timestamp('2020-07-31 15:58:00'), 793.0, 25.4, 22.3, 350.0, 43.6]],\n",
       "      dtype=object)"
      ]
     },
     "execution_count": 128,
     "metadata": {},
     "output_type": "execute_result"
    }
   ],
   "source": [
    "np_data = data_irra.to_numpy()\n",
    "np_data"
   ]
  },
  {
   "cell_type": "code",
   "execution_count": 141,
   "id": "4069d63d",
   "metadata": {},
   "outputs": [],
   "source": [
    "info = []\n",
    "for i, (tid, irradiance, Ta, Ti, ms, To) in enumerate(np_data[15:]):\n",
    "    if tid - np_data[i][0] == pd.Timedelta(\"15m\"):\n",
    "        # save all 15 minutes innside infomration\n",
    "        info.append(np_data[i:i+15])"
   ]
  },
  {
   "cell_type": "code",
   "execution_count": 142,
   "id": "ddfd42f6",
   "metadata": {},
   "outputs": [
    {
     "data": {
      "text/plain": [
       "(11706, 15, 6)"
      ]
     },
     "execution_count": 142,
     "metadata": {},
     "output_type": "execute_result"
    }
   ],
   "source": [
    "info = np.array(info)\n",
    "info.shape"
   ]
  },
  {
   "cell_type": "markdown",
   "id": "9fea1f25",
   "metadata": {},
   "source": [
    "## Sette opp kravene våres til steady-state"
   ]
  },
  {
   "cell_type": "code",
   "execution_count": 166,
   "id": "e69f8b6a",
   "metadata": {},
   "outputs": [],
   "source": [
    "innenfor_krav = []\n",
    "\n",
    "for intervall15min in info:\n",
    "    ir_mean, Ta_mean, Ti_mean, _, To_mean = (np.mean(intervall15min[:,1:], axis=0))\n",
    "    if (np.max(abs(ir_mean - intervall15min[:,1])) <= 32 and \n",
    "        np.max(abs(Ta_mean - intervall15min[:,2])) <= 1.5 and \n",
    "        np.max(abs(To_mean - intervall15min[:,5])) <= 1 and\n",
    "        np.min(intervall15min[:,4]) >= 50):\n",
    "\n",
    "        innenfor_krav.append(intervall15min)\n",
    "innenfor_krav = np.array(innenfor_krav)"
   ]
  },
  {
   "cell_type": "code",
   "execution_count": 167,
   "id": "5dca5968",
   "metadata": {},
   "outputs": [
    {
     "data": {
      "text/plain": [
       "(8529, 15, 6)"
      ]
     },
     "execution_count": 167,
     "metadata": {},
     "output_type": "execute_result"
    }
   ],
   "source": [
    "innenfor_krav.shape"
   ]
  },
  {
   "cell_type": "code",
   "execution_count": 374,
   "id": "834c3cb0",
   "metadata": {},
   "outputs": [],
   "source": [
    "femtenmin_split = np.array(innenfor_krav[0:2])\n",
    "\n",
    "for v in innenfor_krav[2:]:\n",
    "    if not np.isin(v[:,0], femtenmin_split[:, :, 0]).any():\n",
    "        #print(\"legger til\")\n",
    "        femtenmin_split = np.append(femtenmin_split, [v], axis=0)\n"
   ]
  },
  {
   "cell_type": "code",
   "execution_count": 375,
   "id": "d9399827",
   "metadata": {},
   "outputs": [],
   "source": [
    "femtenmin_split = femtenmin_split[1:]"
   ]
  },
  {
   "cell_type": "code",
   "execution_count": 376,
   "id": "0b37b492",
   "metadata": {},
   "outputs": [
    {
     "data": {
      "text/plain": [
       "(652, 15, 6)"
      ]
     },
     "execution_count": 376,
     "metadata": {},
     "output_type": "execute_result"
    }
   ],
   "source": [
    "femtenmin_split.shape"
   ]
  },
  {
   "cell_type": "markdown",
   "id": "64668583",
   "metadata": {},
   "source": [
    "## Fjerne rare massestrømmer: mean $\\pm$ 1std"
   ]
  },
  {
   "cell_type": "code",
   "execution_count": 377,
   "id": "d58be923",
   "metadata": {},
   "outputs": [
    {
     "name": "stdout",
     "output_type": "stream",
     "text": [
      "snitt: 374.29, std:42.89\n"
     ]
    }
   ],
   "source": [
    "snitt = np.mean(femtenmin_split[:, :, 4].flatten())\n",
    "std = np.std(femtenmin_split[:, :, 4].flatten())\n",
    "\n",
    "femtenmin_split = femtenmin_split[(abs(femtenmin_split[:,:,4] - snitt) /std <= 1).any(axis=1)]\n",
    "print(f\"snitt: {snitt:.2f}, std:{std:.2f}\")"
   ]
  },
  {
   "cell_type": "code",
   "execution_count": 379,
   "id": "56ee614a",
   "metadata": {},
   "outputs": [
    {
     "data": {
      "text/plain": [
       "(586, 15, 6)"
      ]
     },
     "execution_count": 379,
     "metadata": {},
     "output_type": "execute_result"
    }
   ],
   "source": [
    "femtenmin_split.shape"
   ]
  },
  {
   "cell_type": "code",
   "execution_count": 411,
   "id": "461a5cac",
   "metadata": {},
   "outputs": [
    {
     "data": {
      "text/html": [
       "<div>\n",
       "<style scoped>\n",
       "    .dataframe tbody tr th:only-of-type {\n",
       "        vertical-align: middle;\n",
       "    }\n",
       "\n",
       "    .dataframe tbody tr th {\n",
       "        vertical-align: top;\n",
       "    }\n",
       "\n",
       "    .dataframe thead th {\n",
       "        text-align: right;\n",
       "    }\n",
       "</style>\n",
       "<table border=\"1\" class=\"dataframe\">\n",
       "  <thead>\n",
       "    <tr style=\"text-align: right;\">\n",
       "      <th></th>\n",
       "      <th>0</th>\n",
       "      <th>1</th>\n",
       "      <th>2</th>\n",
       "      <th>3</th>\n",
       "      <th>4</th>\n",
       "      <th>5</th>\n",
       "    </tr>\n",
       "  </thead>\n",
       "  <tbody>\n",
       "    <tr>\n",
       "      <th>0</th>\n",
       "      <td>2020-05-27 15:04:00</td>\n",
       "      <td>887.0</td>\n",
       "      <td>17.4</td>\n",
       "      <td>20.1</td>\n",
       "      <td>350.0</td>\n",
       "      <td>42.15</td>\n",
       "    </tr>\n",
       "    <tr>\n",
       "      <th>1</th>\n",
       "      <td>2020-05-27 15:05:00</td>\n",
       "      <td>883.0</td>\n",
       "      <td>17.6</td>\n",
       "      <td>20.1</td>\n",
       "      <td>350.0</td>\n",
       "      <td>42.10</td>\n",
       "    </tr>\n",
       "    <tr>\n",
       "      <th>2</th>\n",
       "      <td>2020-05-27 15:06:00</td>\n",
       "      <td>880.0</td>\n",
       "      <td>17.5</td>\n",
       "      <td>20.1</td>\n",
       "      <td>348.0</td>\n",
       "      <td>42.05</td>\n",
       "    </tr>\n",
       "    <tr>\n",
       "      <th>3</th>\n",
       "      <td>2020-05-27 15:07:00</td>\n",
       "      <td>879.0</td>\n",
       "      <td>17.7</td>\n",
       "      <td>20.1</td>\n",
       "      <td>347.0</td>\n",
       "      <td>42.10</td>\n",
       "    </tr>\n",
       "    <tr>\n",
       "      <th>4</th>\n",
       "      <td>2020-05-27 15:08:00</td>\n",
       "      <td>879.0</td>\n",
       "      <td>17.7</td>\n",
       "      <td>20.1</td>\n",
       "      <td>347.0</td>\n",
       "      <td>42.25</td>\n",
       "    </tr>\n",
       "    <tr>\n",
       "      <th>5</th>\n",
       "      <td>2020-05-27 15:09:00</td>\n",
       "      <td>875.0</td>\n",
       "      <td>17.8</td>\n",
       "      <td>20.1</td>\n",
       "      <td>345.0</td>\n",
       "      <td>42.25</td>\n",
       "    </tr>\n",
       "    <tr>\n",
       "      <th>6</th>\n",
       "      <td>2020-05-27 15:10:00</td>\n",
       "      <td>872.0</td>\n",
       "      <td>17.2</td>\n",
       "      <td>20.1</td>\n",
       "      <td>345.0</td>\n",
       "      <td>42.25</td>\n",
       "    </tr>\n",
       "    <tr>\n",
       "      <th>7</th>\n",
       "      <td>2020-05-27 15:11:00</td>\n",
       "      <td>869.0</td>\n",
       "      <td>16.8</td>\n",
       "      <td>20.1</td>\n",
       "      <td>344.0</td>\n",
       "      <td>42.25</td>\n",
       "    </tr>\n",
       "    <tr>\n",
       "      <th>8</th>\n",
       "      <td>2020-05-27 15:12:00</td>\n",
       "      <td>868.0</td>\n",
       "      <td>16.9</td>\n",
       "      <td>20.1</td>\n",
       "      <td>343.0</td>\n",
       "      <td>42.25</td>\n",
       "    </tr>\n",
       "    <tr>\n",
       "      <th>9</th>\n",
       "      <td>2020-05-27 15:13:00</td>\n",
       "      <td>866.0</td>\n",
       "      <td>17.4</td>\n",
       "      <td>20.1</td>\n",
       "      <td>342.0</td>\n",
       "      <td>42.25</td>\n",
       "    </tr>\n",
       "    <tr>\n",
       "      <th>10</th>\n",
       "      <td>2020-05-27 15:14:00</td>\n",
       "      <td>863.0</td>\n",
       "      <td>17.7</td>\n",
       "      <td>20.1</td>\n",
       "      <td>342.0</td>\n",
       "      <td>42.20</td>\n",
       "    </tr>\n",
       "    <tr>\n",
       "      <th>11</th>\n",
       "      <td>2020-05-27 15:15:00</td>\n",
       "      <td>862.0</td>\n",
       "      <td>17.3</td>\n",
       "      <td>20.2</td>\n",
       "      <td>340.0</td>\n",
       "      <td>42.15</td>\n",
       "    </tr>\n",
       "    <tr>\n",
       "      <th>12</th>\n",
       "      <td>2020-05-27 15:16:00</td>\n",
       "      <td>860.0</td>\n",
       "      <td>17.0</td>\n",
       "      <td>20.2</td>\n",
       "      <td>340.0</td>\n",
       "      <td>42.15</td>\n",
       "    </tr>\n",
       "    <tr>\n",
       "      <th>13</th>\n",
       "      <td>2020-05-27 15:17:00</td>\n",
       "      <td>858.0</td>\n",
       "      <td>17.0</td>\n",
       "      <td>20.1</td>\n",
       "      <td>338.0</td>\n",
       "      <td>42.00</td>\n",
       "    </tr>\n",
       "    <tr>\n",
       "      <th>14</th>\n",
       "      <td>2020-05-27 15:18:00</td>\n",
       "      <td>857.0</td>\n",
       "      <td>17.3</td>\n",
       "      <td>20.2</td>\n",
       "      <td>337.0</td>\n",
       "      <td>41.95</td>\n",
       "    </tr>\n",
       "  </tbody>\n",
       "</table>\n",
       "</div>"
      ],
      "text/plain": [
       "                     0      1     2     3      4      5\n",
       "0  2020-05-27 15:04:00  887.0  17.4  20.1  350.0  42.15\n",
       "1  2020-05-27 15:05:00  883.0  17.6  20.1  350.0  42.10\n",
       "2  2020-05-27 15:06:00  880.0  17.5  20.1  348.0  42.05\n",
       "3  2020-05-27 15:07:00  879.0  17.7  20.1  347.0  42.10\n",
       "4  2020-05-27 15:08:00  879.0  17.7  20.1  347.0  42.25\n",
       "5  2020-05-27 15:09:00  875.0  17.8  20.1  345.0  42.25\n",
       "6  2020-05-27 15:10:00  872.0  17.2  20.1  345.0  42.25\n",
       "7  2020-05-27 15:11:00  869.0  16.8  20.1  344.0  42.25\n",
       "8  2020-05-27 15:12:00  868.0  16.9  20.1  343.0  42.25\n",
       "9  2020-05-27 15:13:00  866.0  17.4  20.1  342.0  42.25\n",
       "10 2020-05-27 15:14:00  863.0  17.7  20.1  342.0  42.20\n",
       "11 2020-05-27 15:15:00  862.0  17.3  20.2  340.0  42.15\n",
       "12 2020-05-27 15:16:00  860.0  17.0  20.2  340.0  42.15\n",
       "13 2020-05-27 15:17:00  858.0  17.0  20.1  338.0  42.00\n",
       "14 2020-05-27 15:18:00  857.0  17.3  20.2  337.0  41.95"
      ]
     },
     "execution_count": 411,
     "metadata": {},
     "output_type": "execute_result"
    }
   ],
   "source": [
    "pd.DataFrame(femtenmin_split[250])"
   ]
  },
  {
   "cell_type": "code",
   "execution_count": 412,
   "id": "7b095c78",
   "metadata": {},
   "outputs": [
    {
     "data": {
      "text/html": [
       "<div>\n",
       "<style scoped>\n",
       "    .dataframe tbody tr th:only-of-type {\n",
       "        vertical-align: middle;\n",
       "    }\n",
       "\n",
       "    .dataframe tbody tr th {\n",
       "        vertical-align: top;\n",
       "    }\n",
       "\n",
       "    .dataframe thead th {\n",
       "        text-align: right;\n",
       "    }\n",
       "</style>\n",
       "<table border=\"1\" class=\"dataframe\">\n",
       "  <thead>\n",
       "    <tr style=\"text-align: right;\">\n",
       "      <th></th>\n",
       "      <th>0</th>\n",
       "      <th>1</th>\n",
       "      <th>2</th>\n",
       "      <th>3</th>\n",
       "      <th>4</th>\n",
       "      <th>5</th>\n",
       "    </tr>\n",
       "  </thead>\n",
       "  <tbody>\n",
       "    <tr>\n",
       "      <th>0</th>\n",
       "      <td>2020-05-27 15:19:00</td>\n",
       "      <td>855.0</td>\n",
       "      <td>17.7</td>\n",
       "      <td>20.1</td>\n",
       "      <td>335.0</td>\n",
       "      <td>41.95</td>\n",
       "    </tr>\n",
       "    <tr>\n",
       "      <th>1</th>\n",
       "      <td>2020-05-27 15:20:00</td>\n",
       "      <td>853.0</td>\n",
       "      <td>18.0</td>\n",
       "      <td>20.1</td>\n",
       "      <td>335.0</td>\n",
       "      <td>41.95</td>\n",
       "    </tr>\n",
       "    <tr>\n",
       "      <th>2</th>\n",
       "      <td>2020-05-27 15:21:00</td>\n",
       "      <td>850.0</td>\n",
       "      <td>18.1</td>\n",
       "      <td>20.1</td>\n",
       "      <td>334.0</td>\n",
       "      <td>42.05</td>\n",
       "    </tr>\n",
       "    <tr>\n",
       "      <th>3</th>\n",
       "      <td>2020-05-27 15:22:00</td>\n",
       "      <td>848.0</td>\n",
       "      <td>18.2</td>\n",
       "      <td>20.2</td>\n",
       "      <td>334.0</td>\n",
       "      <td>42.25</td>\n",
       "    </tr>\n",
       "    <tr>\n",
       "      <th>4</th>\n",
       "      <td>2020-05-27 15:23:00</td>\n",
       "      <td>846.0</td>\n",
       "      <td>18.2</td>\n",
       "      <td>20.1</td>\n",
       "      <td>332.0</td>\n",
       "      <td>42.25</td>\n",
       "    </tr>\n",
       "    <tr>\n",
       "      <th>5</th>\n",
       "      <td>2020-05-27 15:24:00</td>\n",
       "      <td>844.0</td>\n",
       "      <td>17.8</td>\n",
       "      <td>20.1</td>\n",
       "      <td>331.0</td>\n",
       "      <td>42.30</td>\n",
       "    </tr>\n",
       "    <tr>\n",
       "      <th>6</th>\n",
       "      <td>2020-05-27 15:25:00</td>\n",
       "      <td>841.0</td>\n",
       "      <td>17.6</td>\n",
       "      <td>20.2</td>\n",
       "      <td>330.0</td>\n",
       "      <td>42.30</td>\n",
       "    </tr>\n",
       "    <tr>\n",
       "      <th>7</th>\n",
       "      <td>2020-05-27 15:26:00</td>\n",
       "      <td>839.0</td>\n",
       "      <td>18.0</td>\n",
       "      <td>20.2</td>\n",
       "      <td>330.0</td>\n",
       "      <td>42.30</td>\n",
       "    </tr>\n",
       "    <tr>\n",
       "      <th>8</th>\n",
       "      <td>2020-05-27 15:27:00</td>\n",
       "      <td>837.0</td>\n",
       "      <td>18.2</td>\n",
       "      <td>20.2</td>\n",
       "      <td>330.0</td>\n",
       "      <td>42.30</td>\n",
       "    </tr>\n",
       "    <tr>\n",
       "      <th>9</th>\n",
       "      <td>2020-05-27 15:28:00</td>\n",
       "      <td>835.0</td>\n",
       "      <td>18.2</td>\n",
       "      <td>20.2</td>\n",
       "      <td>328.0</td>\n",
       "      <td>42.30</td>\n",
       "    </tr>\n",
       "    <tr>\n",
       "      <th>10</th>\n",
       "      <td>2020-05-27 15:29:00</td>\n",
       "      <td>833.0</td>\n",
       "      <td>17.6</td>\n",
       "      <td>20.1</td>\n",
       "      <td>328.0</td>\n",
       "      <td>42.30</td>\n",
       "    </tr>\n",
       "    <tr>\n",
       "      <th>11</th>\n",
       "      <td>2020-05-27 15:30:00</td>\n",
       "      <td>830.0</td>\n",
       "      <td>17.3</td>\n",
       "      <td>20.1</td>\n",
       "      <td>326.0</td>\n",
       "      <td>42.30</td>\n",
       "    </tr>\n",
       "    <tr>\n",
       "      <th>12</th>\n",
       "      <td>2020-05-27 15:31:00</td>\n",
       "      <td>828.0</td>\n",
       "      <td>17.6</td>\n",
       "      <td>20.1</td>\n",
       "      <td>326.0</td>\n",
       "      <td>42.25</td>\n",
       "    </tr>\n",
       "    <tr>\n",
       "      <th>13</th>\n",
       "      <td>2020-05-27 15:32:00</td>\n",
       "      <td>826.0</td>\n",
       "      <td>17.3</td>\n",
       "      <td>20.2</td>\n",
       "      <td>326.0</td>\n",
       "      <td>42.20</td>\n",
       "    </tr>\n",
       "    <tr>\n",
       "      <th>14</th>\n",
       "      <td>2020-05-27 15:33:00</td>\n",
       "      <td>824.0</td>\n",
       "      <td>17.3</td>\n",
       "      <td>20.2</td>\n",
       "      <td>324.0</td>\n",
       "      <td>42.20</td>\n",
       "    </tr>\n",
       "  </tbody>\n",
       "</table>\n",
       "</div>"
      ],
      "text/plain": [
       "                     0      1     2     3      4      5\n",
       "0  2020-05-27 15:19:00  855.0  17.7  20.1  335.0  41.95\n",
       "1  2020-05-27 15:20:00  853.0  18.0  20.1  335.0  41.95\n",
       "2  2020-05-27 15:21:00  850.0  18.1  20.1  334.0  42.05\n",
       "3  2020-05-27 15:22:00  848.0  18.2  20.2  334.0  42.25\n",
       "4  2020-05-27 15:23:00  846.0  18.2  20.1  332.0  42.25\n",
       "5  2020-05-27 15:24:00  844.0  17.8  20.1  331.0  42.30\n",
       "6  2020-05-27 15:25:00  841.0  17.6  20.2  330.0  42.30\n",
       "7  2020-05-27 15:26:00  839.0  18.0  20.2  330.0  42.30\n",
       "8  2020-05-27 15:27:00  837.0  18.2  20.2  330.0  42.30\n",
       "9  2020-05-27 15:28:00  835.0  18.2  20.2  328.0  42.30\n",
       "10 2020-05-27 15:29:00  833.0  17.6  20.1  328.0  42.30\n",
       "11 2020-05-27 15:30:00  830.0  17.3  20.1  326.0  42.30\n",
       "12 2020-05-27 15:31:00  828.0  17.6  20.1  326.0  42.25\n",
       "13 2020-05-27 15:32:00  826.0  17.3  20.2  326.0  42.20\n",
       "14 2020-05-27 15:33:00  824.0  17.3  20.2  324.0  42.20"
      ]
     },
     "execution_count": 412,
     "metadata": {},
     "output_type": "execute_result"
    }
   ],
   "source": [
    "pd.DataFrame(femtenmin_split[251])"
   ]
  },
  {
   "cell_type": "markdown",
   "id": "2fc19f8f",
   "metadata": {},
   "source": [
    "# Modellering\n",
    "\n",
    "### Finne variabel (X) veridene for hvert momentanpunkt:   \n",
    "(1) $\\frac{T_i - T_a}{G_T}$  Tm2/W  \n",
    "\n",
    "### Finne virkningsgrad ved å se max effekt og Q  \n",
    "(2) $\\eta = \\frac{Q}{E_{max}}$\n",
    "\n",
    "\n",
    "### Virkinggrad er da Q / max effekt  \n",
    "Q er hvor mye effekt som har gått ned i å varme opp vannet. $Q = m * c * delta T$   [g/s * j/(kg * K) * K] =\n",
    "[g/s * j/kg] = [g/s * j/g] = [j/s] = [W]\n",
    "\n",
    "c = 4.183 j/g K  \n",
    "(3) $Q = \\dot{m} * c * \\Delta T $ [W]\n",
    "\n",
    "### Max effekt\n",
    "Solfanger er 67,2 m2  \n",
    "(4) $GA = G * A $  \n",
    "Der A = 67.2 m2 og G = G\n",
    "\n"
   ]
  },
  {
   "cell_type": "code",
   "execution_count": 380,
   "id": "9bbfc77a",
   "metadata": {},
   "outputs": [],
   "source": [
    "X = []\n",
    "Q = []\n",
    "GA = []\n",
    "for i in femtenmin_split:\n",
    "    ir_mean, Ta_mean, Ti_mean, m_s_mean, To_mean = np.mean(i[:, 1:], axis=0)\n",
    "    \n",
    "    # X formelen\n",
    "    x = (Ti_mean - Ta_mean)/ir_mean \n",
    "    X.append(x)\n",
    "    \n",
    "    # Q formelen\n",
    "    q = m_s_mean * 4.183 * (To_mean - Ti_mean)\n",
    "    Q.append(q)\n",
    "    \n",
    "    # GA foremlen\n",
    "    ga = ir_mean * 67.2\n",
    "    GA.append(ga)\n",
    "\n",
    "X = np.array(X)\n",
    "Q = np.array(Q)\n",
    "GA = np.array(GA)\n",
    "\n",
    "n = Q/GA"
   ]
  },
  {
   "cell_type": "code",
   "execution_count": 329,
   "id": "6ce6f8d7",
   "metadata": {},
   "outputs": [
    {
     "data": {
      "text/plain": [
       "array([80640., 80640., 80640.])"
      ]
     },
     "execution_count": 329,
     "metadata": {},
     "output_type": "execute_result"
    }
   ],
   "source": [
    "GA[n<0.1]"
   ]
  },
  {
   "cell_type": "code",
   "execution_count": 403,
   "id": "a804a4a2",
   "metadata": {},
   "outputs": [
    {
     "data": {
      "image/png": "[encoded data removed]",
      "text/plain": [
       "<Figure size 432x288 with 1 Axes>"
      ]
     },
     "metadata": {
      "needs_background": "light"
     },
     "output_type": "display_data"
    }
   ],
   "source": [
    "plt.scatter(X[n>0.2],n[n>0.2])\n",
    "plt.grid()\n",
    "plt.xlabel(\"X\")\n",
    "plt.ylabel(\"$\\eta_{momentant}$\")\n",
    "plt.show()"
   ]
  },
  {
   "cell_type": "code",
   "execution_count": 392,
   "id": "f287e9bf",
   "metadata": {},
   "outputs": [
    {
     "data": {
      "text/plain": [
       "0.7941282898548367"
      ]
     },
     "execution_count": 392,
     "metadata": {},
     "output_type": "execute_result"
    }
   ],
   "source": [
    "from sklearn.linear_model import LinearRegression\n",
    "reg = LinearRegression().fit(X[n>0.2].reshape(-1,1),n[n>0.2].reshape(-1,1))\n",
    "reg.score(X[n>0.2].reshape(-1,1),n[n>0.2].reshape(-1,1))"
   ]
  },
  {
   "cell_type": "code",
   "execution_count": 391,
   "id": "e663bccc",
   "metadata": {},
   "outputs": [
    {
     "data": {
      "text/plain": [
       "(586, 1)"
      ]
     },
     "execution_count": 391,
     "metadata": {},
     "output_type": "execute_result"
    }
   ],
   "source": [
    "X.reshape(-1,1).shape"
   ]
  },
  {
   "cell_type": "code",
   "execution_count": 393,
   "id": "01164854",
   "metadata": {},
   "outputs": [],
   "source": [
    "pred = reg.predict(X[n>0.2].reshape(-1,1))"
   ]
  },
  {
   "cell_type": "code",
   "execution_count": 396,
   "id": "ff9095a3",
   "metadata": {},
   "outputs": [
    {
     "data": {
      "image/png": "[encoded data removed]",
      "text/plain": [
       "<Figure size 432x288 with 1 Axes>"
      ]
     },
     "metadata": {
      "needs_background": "light"
     },
     "output_type": "display_data"
    }
   ],
   "source": [
    "plt.scatter(X[n>0.2],n[n>0.2])\n",
    "plt.plot(X[n>0.2],pred, c=\"red\", label=\"model\")\n",
    "plt.grid()\n",
    "plt.xlabel(\"X?\")\n",
    "plt.ylabel(\"$\\eta_{momentant}$\")\n",
    "plt.show()"
   ]
  },
  {
   "cell_type": "code",
   "execution_count": 401,
   "id": "e1c641a7",
   "metadata": {},
   "outputs": [
    {
     "name": "stdout",
     "output_type": "stream",
     "text": [
      "b1: [[-5.27614314]].. = Fr*Ul\n"
     ]
    }
   ],
   "source": [
    "print(f\"b1: {reg.coef_}.. = Fr*Ul\")"
   ]
  },
  {
   "cell_type": "code",
   "execution_count": 404,
   "id": "dc79235f",
   "metadata": {},
   "outputs": [
    {
     "name": "stdout",
     "output_type": "stream",
     "text": [
      "b0: [0.5642758].. = FR(τα)\n"
     ]
    }
   ],
   "source": [
    "print(f\"b0: {reg.intercept_}.. = FR(τα)\")"
   ]
  },
  {
   "cell_type": "code",
   "execution_count": 414,
   "id": "d299af1e",
   "metadata": {},
   "outputs": [
    {
     "data": {
      "image/png": "[encoded data removed]",
      "text/plain": [
       "<Figure size 432x288 with 1 Axes>"
      ]
     },
     "metadata": {
      "needs_background": "light"
     },
     "output_type": "display_data"
    }
   ],
   "source": [
    "dårlig_prediksjon = [0.5 for i in range(584)]\n",
    "plt.scatter(X[n>0.2],n[n>0.2])\n",
    "plt.plot(X[n>0.2],pred, c=\"red\")\n",
    "plt.plot(X[n>0.2],dårlig_prediksjon, c=\"green\")\n",
    "plt.grid()\n",
    "plt.xlabel(\"X?\")\n",
    "plt.ylabel(\"$\\eta_{momentant}$\")\n",
    "plt.show()"
   ]
  },
  {
   "cell_type": "code",
   "execution_count": 415,
   "id": "13aa46b8",
   "metadata": {},
   "outputs": [
    {
     "data": {
      "text/plain": [
       "-4.237411051458687"
      ]
     },
     "execution_count": 415,
     "metadata": {},
     "output_type": "execute_result"
    }
   ],
   "source": [
    "from sklearn.metrics import r2_score\n",
    "r2_score(n[n>0.2], dårlig_prediksjon)"
   ]
  },
  {
   "cell_type": "code",
   "execution_count": null,
   "id": "d12a999d",
   "metadata": {},
   "outputs": [],
   "source": []
  }
 ],
 "metadata": {
  "kernelspec": {
   "display_name": "Python 3",
   "language": "python",
   "name": "python3"
  },
  "language_info": {
   "codemirror_mode": {
    "name": "ipython",
    "version": 3
   },
   "file_extension": ".py",
   "mimetype": "text/x-python",
   "name": "python",
   "nbconvert_exporter": "python",
   "pygments_lexer": "ipython3",
   "version": "3.7.7"
  }
 },
 "nbformat": 4,
 "nbformat_minor": 5
}
