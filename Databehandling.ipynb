{
 "cells": [
  {
   "cell_type": "markdown",
   "id": "81a33b1a",
   "metadata": {},
   "source": [
    "# FYS375 Modellering av solfanger\n",
    "Gruppe 3 - Høst 2021\n",
    "\n",
    "Modellering av solfanger. Her lages en model basert på data fra mars til juli 2020. Med gjeldene krav fra ASHRAE-93.  \n",
    "De predikerte verdiene er plottet mot målte verdier, og samlignet med en benchmarkmodell med 50% virkningsgrad.  \n",
    "Nøkkeltall:  \n",
    "Datapunkter i 2020: 586  \n",
    "$RMSE_{model} = 16.206$  \n",
    "$RMSE_{benchmark} = 28.095$"
   ]
  },
  {
   "cell_type": "code",
   "execution_count": 1,
   "id": "f824afde",
   "metadata": {},
   "outputs": [],
   "source": [
    "import pandas as pd\n",
    "import numpy as np\n",
    "import matplotlib.pyplot as plt\n",
    "import math\n",
    "\n",
    "from sklearn.metrics import mean_squared_error\n",
    "from sklearn.linear_model import LinearRegression"
   ]
  },
  {
   "cell_type": "code",
   "execution_count": 2,
   "id": "97957ac9",
   "metadata": {},
   "outputs": [
    {
     "data": {
      "text/html": [
       "<div>\n",
       "<style scoped>\n",
       "    .dataframe tbody tr th:only-of-type {\n",
       "        vertical-align: middle;\n",
       "    }\n",
       "\n",
       "    .dataframe tbody tr th {\n",
       "        vertical-align: top;\n",
       "    }\n",
       "\n",
       "    .dataframe thead th {\n",
       "        text-align: right;\n",
       "    }\n",
       "</style>\n",
       "<table border=\"1\" class=\"dataframe\">\n",
       "  <thead>\n",
       "    <tr style=\"text-align: right;\">\n",
       "      <th></th>\n",
       "      <th>Time</th>\n",
       "      <th>Irradiance (W/m2)</th>\n",
       "      <th>Ambient Temperature (C)</th>\n",
       "      <th>Inlet Temperature (C)</th>\n",
       "      <th>Mass flow (g/s)</th>\n",
       "      <th>Outlet Temperature (C)</th>\n",
       "    </tr>\n",
       "  </thead>\n",
       "  <tbody>\n",
       "    <tr>\n",
       "      <th>0</th>\n",
       "      <td>2020-03-01 00:01:00</td>\n",
       "      <td>0.0</td>\n",
       "      <td>0.4</td>\n",
       "      <td>15.6</td>\n",
       "      <td>107.0</td>\n",
       "      <td>23.6</td>\n",
       "    </tr>\n",
       "    <tr>\n",
       "      <th>1</th>\n",
       "      <td>2020-03-01 00:02:00</td>\n",
       "      <td>0.0</td>\n",
       "      <td>0.4</td>\n",
       "      <td>15.6</td>\n",
       "      <td>107.0</td>\n",
       "      <td>23.6</td>\n",
       "    </tr>\n",
       "    <tr>\n",
       "      <th>2</th>\n",
       "      <td>2020-03-01 00:03:00</td>\n",
       "      <td>0.0</td>\n",
       "      <td>0.4</td>\n",
       "      <td>15.6</td>\n",
       "      <td>107.0</td>\n",
       "      <td>23.6</td>\n",
       "    </tr>\n",
       "    <tr>\n",
       "      <th>3</th>\n",
       "      <td>2020-03-01 00:04:00</td>\n",
       "      <td>0.0</td>\n",
       "      <td>0.4</td>\n",
       "      <td>15.6</td>\n",
       "      <td>107.0</td>\n",
       "      <td>23.6</td>\n",
       "    </tr>\n",
       "    <tr>\n",
       "      <th>4</th>\n",
       "      <td>2020-03-01 00:05:00</td>\n",
       "      <td>0.0</td>\n",
       "      <td>0.4</td>\n",
       "      <td>15.6</td>\n",
       "      <td>107.0</td>\n",
       "      <td>23.6</td>\n",
       "    </tr>\n",
       "    <tr>\n",
       "      <th>...</th>\n",
       "      <td>...</td>\n",
       "      <td>...</td>\n",
       "      <td>...</td>\n",
       "      <td>...</td>\n",
       "      <td>...</td>\n",
       "      <td>...</td>\n",
       "    </tr>\n",
       "    <tr>\n",
       "      <th>220314</th>\n",
       "      <td>2020-07-31 23:55:00</td>\n",
       "      <td>-1.0</td>\n",
       "      <td>17.7</td>\n",
       "      <td>25.5</td>\n",
       "      <td>0.0</td>\n",
       "      <td>26.9</td>\n",
       "    </tr>\n",
       "    <tr>\n",
       "      <th>220315</th>\n",
       "      <td>2020-07-31 23:56:00</td>\n",
       "      <td>-1.0</td>\n",
       "      <td>17.8</td>\n",
       "      <td>25.5</td>\n",
       "      <td>0.0</td>\n",
       "      <td>26.9</td>\n",
       "    </tr>\n",
       "    <tr>\n",
       "      <th>220316</th>\n",
       "      <td>2020-07-31 23:57:00</td>\n",
       "      <td>-1.0</td>\n",
       "      <td>17.8</td>\n",
       "      <td>25.5</td>\n",
       "      <td>0.0</td>\n",
       "      <td>26.9</td>\n",
       "    </tr>\n",
       "    <tr>\n",
       "      <th>220317</th>\n",
       "      <td>2020-07-31 23:58:00</td>\n",
       "      <td>-1.0</td>\n",
       "      <td>17.8</td>\n",
       "      <td>25.5</td>\n",
       "      <td>0.0</td>\n",
       "      <td>26.9</td>\n",
       "    </tr>\n",
       "    <tr>\n",
       "      <th>220318</th>\n",
       "      <td>2020-07-31 23:59:00</td>\n",
       "      <td>-1.0</td>\n",
       "      <td>17.8</td>\n",
       "      <td>25.5</td>\n",
       "      <td>0.0</td>\n",
       "      <td>26.9</td>\n",
       "    </tr>\n",
       "  </tbody>\n",
       "</table>\n",
       "<p>220319 rows × 6 columns</p>\n",
       "</div>"
      ],
      "text/plain": [
       "                      Time  Irradiance (W/m2)  Ambient Temperature (C)  \\\n",
       "0      2020-03-01 00:01:00                0.0                      0.4   \n",
       "1      2020-03-01 00:02:00                0.0                      0.4   \n",
       "2      2020-03-01 00:03:00                0.0                      0.4   \n",
       "3      2020-03-01 00:04:00                0.0                      0.4   \n",
       "4      2020-03-01 00:05:00                0.0                      0.4   \n",
       "...                    ...                ...                      ...   \n",
       "220314 2020-07-31 23:55:00               -1.0                     17.7   \n",
       "220315 2020-07-31 23:56:00               -1.0                     17.8   \n",
       "220316 2020-07-31 23:57:00               -1.0                     17.8   \n",
       "220317 2020-07-31 23:58:00               -1.0                     17.8   \n",
       "220318 2020-07-31 23:59:00               -1.0                     17.8   \n",
       "\n",
       "        Inlet Temperature (C)  Mass flow (g/s)  Outlet Temperature (C)  \n",
       "0                        15.6            107.0                    23.6  \n",
       "1                        15.6            107.0                    23.6  \n",
       "2                        15.6            107.0                    23.6  \n",
       "3                        15.6            107.0                    23.6  \n",
       "4                        15.6            107.0                    23.6  \n",
       "...                       ...              ...                     ...  \n",
       "220314                   25.5              0.0                    26.9  \n",
       "220315                   25.5              0.0                    26.9  \n",
       "220316                   25.5              0.0                    26.9  \n",
       "220317                   25.5              0.0                    26.9  \n",
       "220318                   25.5              0.0                    26.9  \n",
       "\n",
       "[220319 rows x 6 columns]"
      ]
     },
     "execution_count": 2,
     "metadata": {},
     "output_type": "execute_result"
    }
   ],
   "source": [
    "data = pd.read_csv(\"Måledata_mars_juli_2020.csv\")\n",
    "data.Time = pd.to_datetime(data.Time)\n",
    "data"
   ]
  },
  {
   "cell_type": "code",
   "execution_count": 3,
   "id": "13695b30",
   "metadata": {},
   "outputs": [],
   "source": [
    "def find_irradiance(data):\n",
    "    try:\n",
    "        data_irra = data[data[\"Irradiance (W/m2)\"] > 790]\n",
    "    except:\n",
    "        data_irra = data[data[\"Irradience (W/m2)\"] > 790]\n",
    "    return data_irra.to_numpy()"
   ]
  },
  {
   "cell_type": "code",
   "execution_count": 4,
   "id": "22707bb7",
   "metadata": {},
   "outputs": [],
   "source": [
    "def find_15_min_intervall(np_data):\n",
    "    info = []\n",
    "    for i, (tid, irradiance, Ta, Ti, ms, To) in enumerate(np_data[15:]):\n",
    "        if tid - np_data[i][0] == pd.Timedelta(\"15m\"):\n",
    "            # save all 15 minutes innside infomration\n",
    "            info.append(np_data[i:i+15])\n",
    "    info = np.array(info)\n",
    "    return info"
   ]
  },
  {
   "cell_type": "markdown",
   "id": "b13f5e5c",
   "metadata": {},
   "source": [
    "## Sette opp kravene våres til steady-state\n",
    "$Irradiance \\pm 32$  \n",
    "$T_{a} \\pm 1.5$  \n",
    "$T_{i} \\pm 1$  "
   ]
  },
  {
   "cell_type": "code",
   "execution_count": 5,
   "id": "32f11884",
   "metadata": {},
   "outputs": [],
   "source": [
    "def steady_state_krav(info):\n",
    "    innenfor_krav = []\n",
    "\n",
    "    for intervall15min in info:\n",
    "        ir_mean, Ta_mean, Ti_mean, _, To_mean = (np.mean(intervall15min[:,1:], axis=0))\n",
    "        if (np.max(abs(ir_mean - intervall15min[:,1])) <= 32 and \n",
    "            np.max(abs(Ta_mean - intervall15min[:,2])) <= 1.5 and \n",
    "            np.max(abs(To_mean - intervall15min[:,5])) <= 1 and\n",
    "            np.min(intervall15min[:,4]) >= 50):\n",
    "\n",
    "            innenfor_krav.append(intervall15min)\n",
    "    innenfor_krav = np.array(innenfor_krav)\n",
    "    return innenfor_krav"
   ]
  },
  {
   "cell_type": "code",
   "execution_count": 6,
   "id": "091a1ea2",
   "metadata": {},
   "outputs": [],
   "source": [
    "def delete_duplicates(innenfor_krav):\n",
    "    femtenmin_split = np.array(innenfor_krav[0:2])\n",
    "\n",
    "    for i,v in enumerate(innenfor_krav[2:]):\n",
    "        print(f\"{i} av {len(innenfor_krav[2:])}\",end=\"\\r\")\n",
    "        if not np.isin(v[:,0], femtenmin_split[:, :, 0]).any():\n",
    "            #print(\"legger til\")\n",
    "            femtenmin_split = np.append(femtenmin_split, [v], axis=0)\n",
    "\n",
    "    femtenmin_split = femtenmin_split[1:]\n",
    "    return femtenmin_split"
   ]
  },
  {
   "cell_type": "markdown",
   "id": "cd9b1e72",
   "metadata": {},
   "source": [
    "## Filtere massestrømmer: mean $\\pm$ 1std\n",
    "Beholder massestrømmen som er mest like ved å finne snittet og standardavviket."
   ]
  },
  {
   "cell_type": "code",
   "execution_count": 7,
   "id": "ab5ab99d",
   "metadata": {},
   "outputs": [],
   "source": [
    "def remove_ms_std(femtenmin_split):\n",
    "    snitt = np.mean(femtenmin_split[:, :, 4].flatten())\n",
    "    std = np.std(femtenmin_split[:, :, 4].flatten())\n",
    "\n",
    "    femtenmin_split = femtenmin_split[(abs(femtenmin_split[:,:,4] - snitt) /std <= 1).any(axis=1)]\n",
    "    print(f\"snitt: {snitt:.2f}, std:{std:.2f}\")\n",
    "    return femtenmin_split"
   ]
  },
  {
   "cell_type": "code",
   "execution_count": 8,
   "id": "067b437c",
   "metadata": {},
   "outputs": [
    {
     "name": "stdout",
     "output_type": "stream",
     "text": [
      "snitt: 374.29, std:42.89\n"
     ]
    }
   ],
   "source": [
    "data_irra = find_irradiance(data)\n",
    "info = find_15_min_intervall(data_irra)\n",
    "innenfor_krav = steady_state_krav(info)\n",
    "femtenmin_split = delete_duplicates(innenfor_krav)\n",
    "ready_15_min_intervall = remove_ms_std(femtenmin_split)"
   ]
  },
  {
   "cell_type": "markdown",
   "id": "c5942bc9",
   "metadata": {},
   "source": [
    "# Modellering\n",
    "\n",
    "### Finne variabel (X) veridene for hvert momentanpunkt:   \n",
    "(1) $\\frac{T_i - T_a}{G_T}$  [Tm2/W]  \n",
    "\n",
    "### Finne virkningsgrad ved å se max effekt og Q  \n",
    "(2) $\\eta = \\frac{Q}{GA}$\n",
    "\n",
    "\n",
    "### Effekt i vannet \n",
    "c = 4.183 j/g K  \n",
    "(3) $Q = \\dot{m} c \\Delta T $ [W]\n",
    "\n",
    "### Max effekt\n",
    "Solfanger er A=67,2 m2  \n",
    "(4) $GA = G * A $  [W]  \n",
    "\n"
   ]
  },
  {
   "cell_type": "code",
   "execution_count": 10,
   "id": "8dd2f2c1",
   "metadata": {},
   "outputs": [],
   "source": [
    "def formulas(femtenmin_split):\n",
    "    X = []\n",
    "    Q = []\n",
    "    GA = []\n",
    "    for i in femtenmin_split:\n",
    "        ir_mean, Ta_mean, Ti_mean, m_s_mean, To_mean = np.mean(i[:, 1:], axis=0)\n",
    "\n",
    "        # X formelen (1)\n",
    "        x = (Ti_mean - Ta_mean)/ir_mean \n",
    "        X.append(x)\n",
    "\n",
    "        # Q formelen (3)\n",
    "        q = m_s_mean * 4.183 * (To_mean - Ti_mean)\n",
    "        Q.append(q)\n",
    "\n",
    "        # GA foremlen (4)\n",
    "        ga = ir_mean * 67.2\n",
    "        GA.append(ga)\n",
    "\n",
    "\n",
    "    X = np.array(X)\n",
    "    Q = np.array(Q)\n",
    "    GA = np.array(GA)\n",
    "    n = Q/GA # (2)\n",
    "    return X, Q, GA, n"
   ]
  },
  {
   "cell_type": "code",
   "execution_count": 11,
   "id": "0a9f3591",
   "metadata": {},
   "outputs": [],
   "source": [
    "X, Q, GA, n = formulas(ready_15_min_intervall)"
   ]
  },
  {
   "cell_type": "code",
   "execution_count": 12,
   "id": "63572e36",
   "metadata": {},
   "outputs": [
    {
     "data": {
      "image/png": "[encoded data removed]",
      "text/plain": [
       "<Figure size 432x288 with 1 Axes>"
      ]
     },
     "metadata": {
      "needs_background": "light"
     },
     "output_type": "display_data"
    }
   ],
   "source": [
    "plt.scatter(X[n>0.2],n[n>0.2])\n",
    "plt.grid()\n",
    "plt.xlabel(\"$\\\\frac{T_{i} - T_{a}}{G_{T}}$\", fontsize=17)\n",
    "plt.ylabel(\"$\\eta_{i}$\", fontsize=15).set_rotation(0)\n",
    "plt.show()"
   ]
  },
  {
   "cell_type": "code",
   "execution_count": 13,
   "id": "d47eebe1",
   "metadata": {},
   "outputs": [
    {
     "name": "stdout",
     "output_type": "stream",
     "text": [
      "r2score: 0.7941282898548367\n"
     ]
    }
   ],
   "source": [
    "reg = LinearRegression().fit(X[n>0.2].reshape(-1,1),n[n>0.2].reshape(-1,1))\n",
    "print(f\"r2score: {reg.score(X[n>0.2].reshape(-1,1),n[n>0.2].reshape(-1,1))}\")"
   ]
  },
  {
   "cell_type": "code",
   "execution_count": 14,
   "id": "334d7bce",
   "metadata": {},
   "outputs": [],
   "source": [
    "pred = reg.predict(X[n>0.2].reshape(-1,1))"
   ]
  },
  {
   "cell_type": "code",
   "execution_count": 15,
   "id": "95a6d2e6",
   "metadata": {
    "scrolled": true
   },
   "outputs": [
    {
     "data": {
      "image/png": "[encoded data removed]",
      "text/plain": [
       "<Figure size 432x288 with 1 Axes>"
      ]
     },
     "metadata": {
      "needs_background": "light"
     },
     "output_type": "display_data"
    }
   ],
   "source": [
    "plt.scatter(X[n>0.2],n[n>0.2])\n",
    "plt.plot(X[n>0.2],pred, c=\"red\", label=\"modell\")\n",
    "plt.plot(X[n>0.2],[0.5 for i in range(len(pred))], c=\"green\", label=\"$\\eta_{50\\%}$\")\n",
    "plt.grid()\n",
    "plt.xlabel(\"$\\\\frac{T_{i} - T_{a}}{G_{T}}$\", fontsize=17)\n",
    "plt.ylabel(\"$\\eta_{i}$\", fontsize=15).set_rotation(0)\n",
    "plt.legend()\n",
    "plt.show()"
   ]
  },
  {
   "cell_type": "code",
   "execution_count": 16,
   "id": "799a2ad0",
   "metadata": {},
   "outputs": [
    {
     "name": "stdout",
     "output_type": "stream",
     "text": [
      "b_1: [[-5.27614314]].. \t = Fr*Ul\n",
      "b0: [0.5642758]..\t = Fr(τα)\n",
      "Fr er [0.69879356]\n",
      "Ul er [7.55036028]\n"
     ]
    }
   ],
   "source": [
    "print(f\"b_1: {reg.coef_}.. \\t = Fr*Ul\")\n",
    "print(f\"b0: {reg.intercept_}..\\t = Fr(τα)\")\n",
    "\n",
    "Fr = reg.intercept_ / (0.85 * 0.95) \n",
    "print(f\"Fr er {Fr}\")\n",
    "\n",
    "Ul  = -reg.coef_[0][0] / Fr\n",
    "print(f\"Ul er {Ul}\")"
   ]
  },
  {
   "cell_type": "markdown",
   "id": "57662e5b",
   "metadata": {},
   "source": [
    "## Estimere energi for 2021"
   ]
  },
  {
   "cell_type": "code",
   "execution_count": 17,
   "id": "f02bc389",
   "metadata": {},
   "outputs": [],
   "source": [
    "data = pd.read_csv(\"Måledata_mars_juli_2021.csv\")\n",
    "try:\n",
    "    data = data.rename(columns={\"Irradience (W/m2)\":\"Irradiance (W/m2)\"})\n",
    "except:\n",
    "    print(\"Heter Irradiance (W/m2) allerede\")"
   ]
  },
  {
   "cell_type": "code",
   "execution_count": 18,
   "id": "633cc38d",
   "metadata": {},
   "outputs": [],
   "source": [
    "data.Time = pd.to_datetime(data.Time)\n",
    "data.index = data.Time\n",
    "data = data.drop(columns=[\"Time\"])"
   ]
  },
  {
   "cell_type": "markdown",
   "id": "2b60f235",
   "metadata": {},
   "source": [
    "### Energi målt\n",
    "$Q = \\dot{m} c \\Delta T$"
   ]
  },
  {
   "cell_type": "code",
   "execution_count": 19,
   "id": "b61f541b",
   "metadata": {},
   "outputs": [],
   "source": [
    "data[\"energi [kWh]\"] = data[\"Mass flow (g/s)\"] * 4.183 * (data[\"Outlet Temperature (C)\"] - data[\"Inlet Temperature (C)\"]) * (1/60) *1e-3"
   ]
  },
  {
   "cell_type": "markdown",
   "id": "df1d3a37",
   "metadata": {},
   "source": [
    "### Energi predikert"
   ]
  },
  {
   "cell_type": "markdown",
   "id": "04bf3a33",
   "metadata": {},
   "source": [
    "$\\eta_{pred} = \\frac{Q}{GA} = Fr * (\\tau \\alpha) - Fr * Ul \\frac{T_i - T_a}{G} $  \n",
    "\n",
    "$Q_{pred} = Fr *  (\\tau \\alpha) * GA - Fr * Ul (T_i - T_a) * A $\n",
    "\n",
    "$\\eta = \\frac{Q}{GA} = \\frac{\\dot{m} c \\Delta T}{GA}$"
   ]
  },
  {
   "cell_type": "code",
   "execution_count": 20,
   "id": "d98e4bd3",
   "metadata": {},
   "outputs": [],
   "source": [
    "Fr = 0.69718706\n",
    "Ul = 7.55036028\n",
    "tau = 0.85\n",
    "alpha = 0.95\n",
    "areal = 67.2\n",
    "\n",
    "data[\"pred Q [W]\"] = Fr * (tau * alpha) * data[\"Irradiance (W/m2)\"] * areal - Fr * Ul * (data[\"Inlet Temperature (C)\"] -data[\"Ambient Temperature (C)\"]) * areal\n",
    "data[\"pred energi [kWh]\"] = data[\"pred Q [W]\"] * (1/60) * 1e-3\n",
    "data[\"dårligmodell [kWh]\"] = data['Irradiance (W/m2)'] * areal * 0.5 * (1/60) * 1e-3"
   ]
  },
  {
   "cell_type": "markdown",
   "id": "c1e0767c",
   "metadata": {},
   "source": [
    "Antar at alle predikerte verdier der Q blir mindre enn 0 ikke skjer i virkeligheten. Setter derfor alle negative verdier til 0"
   ]
  },
  {
   "cell_type": "code",
   "execution_count": 21,
   "id": "ea93e029",
   "metadata": {},
   "outputs": [],
   "source": [
    "t = data[\"pred energi [kWh]\"].to_numpy()\n",
    "t[t < 0] = 0\n",
    "data[\"pred energi [kWh]\"] = t"
   ]
  },
  {
   "cell_type": "code",
   "execution_count": 22,
   "id": "c5164e89",
   "metadata": {},
   "outputs": [],
   "source": [
    "# Samler det i dagsintervall og summerer opp energien\n",
    "data_per_dag = data.resample(\"1D\").sum()"
   ]
  },
  {
   "cell_type": "code",
   "execution_count": 23,
   "id": "21d35995",
   "metadata": {},
   "outputs": [
    {
     "data": {
      "image/png": "[encoded data removed]",
      "text/plain": [
       "<Figure size 864x360 with 2 Axes>"
      ]
     },
     "metadata": {
      "needs_background": "light"
     },
     "output_type": "display_data"
    }
   ],
   "source": [
    "fig, (ax1, ax2) = plt.subplots(nrows=1, ncols=2, sharey = True, figsize=(12,5))\n",
    "ax1.scatter(data_per_dag[\"energi [kWh]\"], data_per_dag[\"pred energi [kWh]\"])\n",
    "ax1.set_title(\"Modell\", fontname=\"Times New Roman\")\n",
    "ax2.scatter(data_per_dag[\"energi [kWh]\"], data_per_dag[\"dårligmodell [kWh]\"])\n",
    "ax2.set_title(\"Benchmark modell $\\eta_{50\\%}$\", fontname=\"Times New Roman\")\n",
    "ax1.grid(); ax2.grid()\n",
    "\n",
    "ax1.set_xlabel(\"Målt energi [kWh]\"); ax2.set_xlabel(\"Målt energi [kWh]\")\n",
    "ax1.set_ylabel(\"Predikert energi [kWh]\"); ax2.set_ylabel(\"Predikert energi [kWh]\")\n",
    "fig.suptitle(\"Målt verdier mot predikert verdier daglig energi\", fontsize=19, fontname=\"Times New Roman\")\n",
    "plt.show()"
   ]
  },
  {
   "cell_type": "code",
   "execution_count": 24,
   "id": "a44e6c57",
   "metadata": {},
   "outputs": [
    {
     "name": "stdout",
     "output_type": "stream",
     "text": [
      "RMSE for egen modell: 16.206\n",
      "RMSE for benchmark modell: 28.095\n"
     ]
    }
   ],
   "source": [
    "print(f\"RMSE for egen modell: {math.sqrt(mean_squared_error(data_per_dag['energi [kWh]'], data_per_dag['pred energi [kWh]'])):.3f}\")\n",
    "print(f\"RMSE for benchmark modell: {math.sqrt(mean_squared_error(data_per_dag['energi [kWh]'], data_per_dag['dårligmodell [kWh]'])):.3f}\")"
   ]
  }
 ],
 "metadata": {
  "kernelspec": {
   "display_name": "Python 3",
   "language": "python",
   "name": "python3"
  },
  "language_info": {
   "codemirror_mode": {
    "name": "ipython",
    "version": 3
   },
   "file_extension": ".py",
   "mimetype": "text/x-python",
   "name": "python",
   "nbconvert_exporter": "python",
   "pygments_lexer": "ipython3",
   "version": "3.7.7"
  }
 },
 "nbformat": 4,
 "nbformat_minor": 5
}
