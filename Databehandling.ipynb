{
 "cells": [
  {
   "cell_type": "markdown",
   "id": "9648af78",
   "metadata": {},
   "source": [
    "# FYS375 Modellering av solfanger\n",
    "Gruppe 3 - Høst 2021\n",
    "\n",
    "Likevekt:  \n",
    "Innstrålt +- 32  \n",
    "Ta =- 1.5  \n",
    "Tintlet -= 1  \n",
    "massestrøm =- 2% av maximal, eller +-1% av mean value"
   ]
  },
  {
   "cell_type": "code",
   "execution_count": 307,
   "id": "00ce833c",
   "metadata": {},
   "outputs": [],
   "source": [
    "import pandas as pd\n",
    "import numpy as np\n",
    "import matplotlib.pyplot as plt"
   ]
  },
  {
   "cell_type": "code",
   "execution_count": 102,
   "id": "70f8aa3d",
   "metadata": {},
   "outputs": [
    {
     "data": {
      "text/html": [
       "<div>\n",
       "<style scoped>\n",
       "    .dataframe tbody tr th:only-of-type {\n",
       "        vertical-align: middle;\n",
       "    }\n",
       "\n",
       "    .dataframe tbody tr th {\n",
       "        vertical-align: top;\n",
       "    }\n",
       "\n",
       "    .dataframe thead th {\n",
       "        text-align: right;\n",
       "    }\n",
       "</style>\n",
       "<table border=\"1\" class=\"dataframe\">\n",
       "  <thead>\n",
       "    <tr style=\"text-align: right;\">\n",
       "      <th></th>\n",
       "      <th>Time</th>\n",
       "      <th>Irradiance (W/m2)</th>\n",
       "      <th>Ambient Temperature (C)</th>\n",
       "      <th>Inlet Temperature (C)</th>\n",
       "      <th>Mass flow (g/s)</th>\n",
       "      <th>Outlet Temperature (C)</th>\n",
       "    </tr>\n",
       "  </thead>\n",
       "  <tbody>\n",
       "    <tr>\n",
       "      <th>0</th>\n",
       "      <td>2020-03-01 00:01:00</td>\n",
       "      <td>0.0</td>\n",
       "      <td>0.4</td>\n",
       "      <td>15.6</td>\n",
       "      <td>107.0</td>\n",
       "      <td>23.6</td>\n",
       "    </tr>\n",
       "    <tr>\n",
       "      <th>1</th>\n",
       "      <td>2020-03-01 00:02:00</td>\n",
       "      <td>0.0</td>\n",
       "      <td>0.4</td>\n",
       "      <td>15.6</td>\n",
       "      <td>107.0</td>\n",
       "      <td>23.6</td>\n",
       "    </tr>\n",
       "    <tr>\n",
       "      <th>2</th>\n",
       "      <td>2020-03-01 00:03:00</td>\n",
       "      <td>0.0</td>\n",
       "      <td>0.4</td>\n",
       "      <td>15.6</td>\n",
       "      <td>107.0</td>\n",
       "      <td>23.6</td>\n",
       "    </tr>\n",
       "    <tr>\n",
       "      <th>3</th>\n",
       "      <td>2020-03-01 00:04:00</td>\n",
       "      <td>0.0</td>\n",
       "      <td>0.4</td>\n",
       "      <td>15.6</td>\n",
       "      <td>107.0</td>\n",
       "      <td>23.6</td>\n",
       "    </tr>\n",
       "    <tr>\n",
       "      <th>4</th>\n",
       "      <td>2020-03-01 00:05:00</td>\n",
       "      <td>0.0</td>\n",
       "      <td>0.4</td>\n",
       "      <td>15.6</td>\n",
       "      <td>107.0</td>\n",
       "      <td>23.6</td>\n",
       "    </tr>\n",
       "    <tr>\n",
       "      <th>...</th>\n",
       "      <td>...</td>\n",
       "      <td>...</td>\n",
       "      <td>...</td>\n",
       "      <td>...</td>\n",
       "      <td>...</td>\n",
       "      <td>...</td>\n",
       "    </tr>\n",
       "    <tr>\n",
       "      <th>220314</th>\n",
       "      <td>2020-07-31 23:55:00</td>\n",
       "      <td>-1.0</td>\n",
       "      <td>17.7</td>\n",
       "      <td>25.5</td>\n",
       "      <td>0.0</td>\n",
       "      <td>26.9</td>\n",
       "    </tr>\n",
       "    <tr>\n",
       "      <th>220315</th>\n",
       "      <td>2020-07-31 23:56:00</td>\n",
       "      <td>-1.0</td>\n",
       "      <td>17.8</td>\n",
       "      <td>25.5</td>\n",
       "      <td>0.0</td>\n",
       "      <td>26.9</td>\n",
       "    </tr>\n",
       "    <tr>\n",
       "      <th>220316</th>\n",
       "      <td>2020-07-31 23:57:00</td>\n",
       "      <td>-1.0</td>\n",
       "      <td>17.8</td>\n",
       "      <td>25.5</td>\n",
       "      <td>0.0</td>\n",
       "      <td>26.9</td>\n",
       "    </tr>\n",
       "    <tr>\n",
       "      <th>220317</th>\n",
       "      <td>2020-07-31 23:58:00</td>\n",
       "      <td>-1.0</td>\n",
       "      <td>17.8</td>\n",
       "      <td>25.5</td>\n",
       "      <td>0.0</td>\n",
       "      <td>26.9</td>\n",
       "    </tr>\n",
       "    <tr>\n",
       "      <th>220318</th>\n",
       "      <td>2020-07-31 23:59:00</td>\n",
       "      <td>-1.0</td>\n",
       "      <td>17.8</td>\n",
       "      <td>25.5</td>\n",
       "      <td>0.0</td>\n",
       "      <td>26.9</td>\n",
       "    </tr>\n",
       "  </tbody>\n",
       "</table>\n",
       "<p>220319 rows × 6 columns</p>\n",
       "</div>"
      ],
      "text/plain": [
       "                      Time  Irradiance (W/m2)  Ambient Temperature (C)  \\\n",
       "0      2020-03-01 00:01:00                0.0                      0.4   \n",
       "1      2020-03-01 00:02:00                0.0                      0.4   \n",
       "2      2020-03-01 00:03:00                0.0                      0.4   \n",
       "3      2020-03-01 00:04:00                0.0                      0.4   \n",
       "4      2020-03-01 00:05:00                0.0                      0.4   \n",
       "...                    ...                ...                      ...   \n",
       "220314 2020-07-31 23:55:00               -1.0                     17.7   \n",
       "220315 2020-07-31 23:56:00               -1.0                     17.8   \n",
       "220316 2020-07-31 23:57:00               -1.0                     17.8   \n",
       "220317 2020-07-31 23:58:00               -1.0                     17.8   \n",
       "220318 2020-07-31 23:59:00               -1.0                     17.8   \n",
       "\n",
       "        Inlet Temperature (C)  Mass flow (g/s)  Outlet Temperature (C)  \n",
       "0                        15.6            107.0                    23.6  \n",
       "1                        15.6            107.0                    23.6  \n",
       "2                        15.6            107.0                    23.6  \n",
       "3                        15.6            107.0                    23.6  \n",
       "4                        15.6            107.0                    23.6  \n",
       "...                       ...              ...                     ...  \n",
       "220314                   25.5              0.0                    26.9  \n",
       "220315                   25.5              0.0                    26.9  \n",
       "220316                   25.5              0.0                    26.9  \n",
       "220317                   25.5              0.0                    26.9  \n",
       "220318                   25.5              0.0                    26.9  \n",
       "\n",
       "[220319 rows x 6 columns]"
      ]
     },
     "execution_count": 102,
     "metadata": {},
     "output_type": "execute_result"
    }
   ],
   "source": [
    "data = pd.read_csv(\"Måledata_mars_juli_2020.csv\")\n",
    "data.Time = pd.to_datetime(data.Time)\n",
    "data"
   ]
  },
  {
   "cell_type": "code",
   "execution_count": 82,
   "id": "36ae67e9",
   "metadata": {},
   "outputs": [],
   "source": [
    "data_irra = data[data[\"Irradiance (W/m2)\"] > 790]"
   ]
  },
  {
   "cell_type": "code",
   "execution_count": 83,
   "id": "ab7542a9",
   "metadata": {},
   "outputs": [
    {
     "data": {
      "text/html": [
       "<div>\n",
       "<style scoped>\n",
       "    .dataframe tbody tr th:only-of-type {\n",
       "        vertical-align: middle;\n",
       "    }\n",
       "\n",
       "    .dataframe tbody tr th {\n",
       "        vertical-align: top;\n",
       "    }\n",
       "\n",
       "    .dataframe thead th {\n",
       "        text-align: right;\n",
       "    }\n",
       "</style>\n",
       "<table border=\"1\" class=\"dataframe\">\n",
       "  <thead>\n",
       "    <tr style=\"text-align: right;\">\n",
       "      <th></th>\n",
       "      <th>Time</th>\n",
       "      <th>Irradiance (W/m2)</th>\n",
       "      <th>Ambient Temperature (C)</th>\n",
       "      <th>Inlet Temperature (C)</th>\n",
       "      <th>Mass flow (g/s)</th>\n",
       "      <th>Outlet Temperature (C)</th>\n",
       "    </tr>\n",
       "  </thead>\n",
       "  <tbody>\n",
       "    <tr>\n",
       "      <th>12151</th>\n",
       "      <td>2020-03-09 10:32:00</td>\n",
       "      <td>851.0</td>\n",
       "      <td>6.7</td>\n",
       "      <td>26.0</td>\n",
       "      <td>0.0</td>\n",
       "      <td>23.75</td>\n",
       "    </tr>\n",
       "    <tr>\n",
       "      <th>12193</th>\n",
       "      <td>2020-03-09 11:14:00</td>\n",
       "      <td>828.0</td>\n",
       "      <td>6.7</td>\n",
       "      <td>26.4</td>\n",
       "      <td>0.0</td>\n",
       "      <td>23.95</td>\n",
       "    </tr>\n",
       "    <tr>\n",
       "      <th>12194</th>\n",
       "      <td>2020-03-09 11:15:00</td>\n",
       "      <td>872.0</td>\n",
       "      <td>6.8</td>\n",
       "      <td>26.3</td>\n",
       "      <td>0.0</td>\n",
       "      <td>23.95</td>\n",
       "    </tr>\n",
       "    <tr>\n",
       "      <th>12209</th>\n",
       "      <td>2020-03-09 11:30:00</td>\n",
       "      <td>909.0</td>\n",
       "      <td>7.2</td>\n",
       "      <td>25.6</td>\n",
       "      <td>0.0</td>\n",
       "      <td>23.85</td>\n",
       "    </tr>\n",
       "    <tr>\n",
       "      <th>12210</th>\n",
       "      <td>2020-03-09 11:31:00</td>\n",
       "      <td>804.0</td>\n",
       "      <td>7.4</td>\n",
       "      <td>25.6</td>\n",
       "      <td>0.0</td>\n",
       "      <td>23.85</td>\n",
       "    </tr>\n",
       "    <tr>\n",
       "      <th>...</th>\n",
       "      <td>...</td>\n",
       "      <td>...</td>\n",
       "      <td>...</td>\n",
       "      <td>...</td>\n",
       "      <td>...</td>\n",
       "      <td>...</td>\n",
       "    </tr>\n",
       "    <tr>\n",
       "      <th>219833</th>\n",
       "      <td>2020-07-31 15:54:00</td>\n",
       "      <td>804.0</td>\n",
       "      <td>24.8</td>\n",
       "      <td>22.3</td>\n",
       "      <td>347.0</td>\n",
       "      <td>43.35</td>\n",
       "    </tr>\n",
       "    <tr>\n",
       "      <th>219834</th>\n",
       "      <td>2020-07-31 15:55:00</td>\n",
       "      <td>800.0</td>\n",
       "      <td>24.8</td>\n",
       "      <td>22.3</td>\n",
       "      <td>347.0</td>\n",
       "      <td>43.50</td>\n",
       "    </tr>\n",
       "    <tr>\n",
       "      <th>219835</th>\n",
       "      <td>2020-07-31 15:56:00</td>\n",
       "      <td>801.0</td>\n",
       "      <td>24.8</td>\n",
       "      <td>22.3</td>\n",
       "      <td>345.0</td>\n",
       "      <td>43.60</td>\n",
       "    </tr>\n",
       "    <tr>\n",
       "      <th>219836</th>\n",
       "      <td>2020-07-31 15:57:00</td>\n",
       "      <td>799.0</td>\n",
       "      <td>25.1</td>\n",
       "      <td>22.3</td>\n",
       "      <td>352.0</td>\n",
       "      <td>43.60</td>\n",
       "    </tr>\n",
       "    <tr>\n",
       "      <th>219837</th>\n",
       "      <td>2020-07-31 15:58:00</td>\n",
       "      <td>793.0</td>\n",
       "      <td>25.4</td>\n",
       "      <td>22.3</td>\n",
       "      <td>350.0</td>\n",
       "      <td>43.60</td>\n",
       "    </tr>\n",
       "  </tbody>\n",
       "</table>\n",
       "<p>19980 rows × 6 columns</p>\n",
       "</div>"
      ],
      "text/plain": [
       "                      Time  Irradiance (W/m2)  Ambient Temperature (C)  \\\n",
       "12151  2020-03-09 10:32:00              851.0                      6.7   \n",
       "12193  2020-03-09 11:14:00              828.0                      6.7   \n",
       "12194  2020-03-09 11:15:00              872.0                      6.8   \n",
       "12209  2020-03-09 11:30:00              909.0                      7.2   \n",
       "12210  2020-03-09 11:31:00              804.0                      7.4   \n",
       "...                    ...                ...                      ...   \n",
       "219833 2020-07-31 15:54:00              804.0                     24.8   \n",
       "219834 2020-07-31 15:55:00              800.0                     24.8   \n",
       "219835 2020-07-31 15:56:00              801.0                     24.8   \n",
       "219836 2020-07-31 15:57:00              799.0                     25.1   \n",
       "219837 2020-07-31 15:58:00              793.0                     25.4   \n",
       "\n",
       "        Inlet Temperature (C)  Mass flow (g/s)  Outlet Temperature (C)  \n",
       "12151                    26.0              0.0                   23.75  \n",
       "12193                    26.4              0.0                   23.95  \n",
       "12194                    26.3              0.0                   23.95  \n",
       "12209                    25.6              0.0                   23.85  \n",
       "12210                    25.6              0.0                   23.85  \n",
       "...                       ...              ...                     ...  \n",
       "219833                   22.3            347.0                   43.35  \n",
       "219834                   22.3            347.0                   43.50  \n",
       "219835                   22.3            345.0                   43.60  \n",
       "219836                   22.3            352.0                   43.60  \n",
       "219837                   22.3            350.0                   43.60  \n",
       "\n",
       "[19980 rows x 6 columns]"
      ]
     },
     "execution_count": 83,
     "metadata": {},
     "output_type": "execute_result"
    }
   ],
   "source": [
    "data_irra"
   ]
  },
  {
   "cell_type": "code",
   "execution_count": 128,
   "id": "7bec4ea3",
   "metadata": {},
   "outputs": [
    {
     "data": {
      "text/plain": [
       "array([[Timestamp('2020-03-09 10:32:00'), 851.0, 6.7, 26.0, 0.0, 23.75],\n",
       "       [Timestamp('2020-03-09 11:14:00'), 828.0, 6.7, 26.4, 0.0, 23.95],\n",
       "       [Timestamp('2020-03-09 11:15:00'), 872.0, 6.8, 26.3, 0.0, 23.95],\n",
       "       ...,\n",
       "       [Timestamp('2020-07-31 15:56:00'), 801.0, 24.8, 22.3, 345.0, 43.6],\n",
       "       [Timestamp('2020-07-31 15:57:00'), 799.0, 25.1, 22.3, 352.0, 43.6],\n",
       "       [Timestamp('2020-07-31 15:58:00'), 793.0, 25.4, 22.3, 350.0, 43.6]],\n",
       "      dtype=object)"
      ]
     },
     "execution_count": 128,
     "metadata": {},
     "output_type": "execute_result"
    }
   ],
   "source": [
    "np_data = data_irra.to_numpy()\n",
    "np_data"
   ]
  },
  {
   "cell_type": "code",
   "execution_count": 141,
   "id": "dbd18a39",
   "metadata": {},
   "outputs": [],
   "source": [
    "info = []\n",
    "for i, (tid, irradiance, Ta, Ti, ms, To) in enumerate(np_data[15:]):\n",
    "    if tid - np_data[i][0] == pd.Timedelta(\"15m\"):\n",
    "        # save all 15 minutes innside infomration\n",
    "        info.append(np_data[i:i+15])"
   ]
  },
  {
   "cell_type": "code",
   "execution_count": 142,
   "id": "aafbbb35",
   "metadata": {},
   "outputs": [
    {
     "data": {
      "text/plain": [
       "(11706, 15, 6)"
      ]
     },
     "execution_count": 142,
     "metadata": {},
     "output_type": "execute_result"
    }
   ],
   "source": [
    "info = np.array(info)\n",
    "info.shape"
   ]
  },
  {
   "cell_type": "code",
   "execution_count": 166,
   "id": "db581c62",
   "metadata": {},
   "outputs": [],
   "source": [
    "innenfor_krav = []\n",
    "\n",
    "for intervall15min in info:\n",
    "    ir_mean, Ta_mean, Ti_mean, _, To_mean = (np.mean(intervall15min[:,1:], axis=0))\n",
    "    if (np.max(abs(ir_mean - intervall15min[:,1])) <= 32 and \n",
    "        np.max(abs(Ta_mean - intervall15min[:,2])) <= 1.5 and \n",
    "        np.max(abs(To_mean - intervall15min[:,5])) <= 1 and\n",
    "        np.min(intervall15min[:,4]) >= 50):\n",
    "\n",
    "        innenfor_krav.append(intervall15min)\n",
    "innenfor_krav = np.array(innenfor_krav)"
   ]
  },
  {
   "cell_type": "code",
   "execution_count": 167,
   "id": "df9f3371",
   "metadata": {},
   "outputs": [
    {
     "data": {
      "text/plain": [
       "(8529, 15, 6)"
      ]
     },
     "execution_count": 167,
     "metadata": {},
     "output_type": "execute_result"
    }
   ],
   "source": [
    "innenfor_krav.shape"
   ]
  },
  {
   "cell_type": "code",
   "execution_count": 274,
   "id": "38566af7",
   "metadata": {},
   "outputs": [],
   "source": [
    "femtenmin_split = np.array(innenfor_krav[0:2])\n",
    "\n",
    "for v in innenfor_krav[2:]:\n",
    "    if not np.isin(v[:,0], femtenmin_split[:, :, 0]).any():\n",
    "        #print(\"legger til\")\n",
    "        femtenmin_split = np.append(femtenmin_split, [v], axis=0)\n"
   ]
  },
  {
   "cell_type": "code",
   "execution_count": 281,
   "id": "75ab2262",
   "metadata": {},
   "outputs": [],
   "source": [
    "femtenmin_split = femtenmin_split[1:]"
   ]
  },
  {
   "cell_type": "code",
   "execution_count": 284,
   "id": "07adbadc",
   "metadata": {},
   "outputs": [
    {
     "data": {
      "text/plain": [
       "(652, 15, 6)"
      ]
     },
     "execution_count": 284,
     "metadata": {},
     "output_type": "execute_result"
    }
   ],
   "source": [
    "femtenmin_split.shape"
   ]
  },
  {
   "cell_type": "markdown",
   "id": "d5ba6b86",
   "metadata": {},
   "source": [
    "Bruker (1) for hvert punkt  \n",
    "$\\frac{T_i - T_a}{G_T}$  Tm2/W  \n",
    "\n",
    "Solfanger er 67,2 m2  \n",
    "Det betyr at max effekt er A * $G_T$  \n",
    "Virkinggrad er da Q / max effekt  \n",
    "Q er hvor mye effekt som har gått ned i å varme opp vannet. Q = m * c * delta T   [g/s * j/(kg * K) * K] =\n",
    "[g/s * j/kg] = [g/s * j/g] = [j/s] = [W]\n",
    "\n",
    "4.183 j/g K  \n",
    "$Q = \\dot{m} * c * \\Delta T $ [W]\n",
    "\n",
    "MAx effetk  \n",
    "$GA = G * A $  \n",
    "Der A = 67.2 m2 og G = G\n",
    "\n"
   ]
  },
  {
   "cell_type": "code",
   "execution_count": 319,
   "id": "a5ed60a2",
   "metadata": {},
   "outputs": [],
   "source": [
    "X = []\n",
    "Q = []\n",
    "GA = []\n",
    "for i in femtenmin_split:\n",
    "    ir_mean, Ta_mean, Ti_mean, m_s_mean, To_mean = np.mean(i[:, 1:], axis=0)\n",
    "    \n",
    "    # X formelen\n",
    "    x = (Ti_mean - Ta_mean)/ir_mean \n",
    "    X.append(x)\n",
    "    \n",
    "    # Q formelen\n",
    "    q = m_s_mean * 4.183 * (To_mean - Ti_mean)\n",
    "    Q.append(q)\n",
    "    \n",
    "    # GA foremlen\n",
    "    ga = ir_mean * 67.2\n",
    "    GA.append(ga)\n",
    "\n",
    "X = np.array(X)\n",
    "Q = np.array(Q)\n",
    "\n",
    "n = Q/GA"
   ]
  },
  {
   "cell_type": "code",
   "execution_count": 321,
   "id": "f3668fbe",
   "metadata": {},
   "outputs": [
    {
     "data": {
      "text/plain": [
       "<matplotlib.collections.PathCollection at 0x1745a74ab88>"
      ]
     },
     "execution_count": 321,
     "metadata": {},
     "output_type": "execute_result"
    },
    {
     "data": {
      "image/png": "[encoded data removed]",
      "text/plain": [
       "<Figure size 432x288 with 1 Axes>"
      ]
     },
     "metadata": {
      "needs_background": "light"
     },
     "output_type": "display_data"
    }
   ],
   "source": [
    "plt.scatter(X,n)"
   ]
  },
  {
   "cell_type": "code",
   "execution_count": 314,
   "id": "d5063252",
   "metadata": {},
   "outputs": [
    {
     "data": {
      "text/plain": [
       "[<matplotlib.lines.Line2D at 0x17459c751c8>]"
      ]
     },
     "execution_count": 314,
     "metadata": {},
     "output_type": "execute_result"
    },
    {
     "data": {
      "image/png": "[encoded data removed]",
      "text/plain": [
       "<Figure size 432x288 with 1 Axes>"
      ]
     },
     "metadata": {
      "needs_background": "light"
     },
     "output_type": "display_data"
    }
   ],
   "source": [
    "plt.plot(femtenmin_split[:, :, 2].flatten())"
   ]
  },
  {
   "cell_type": "code",
   "execution_count": 315,
   "id": "4a24191a",
   "metadata": {},
   "outputs": [
    {
     "data": {
      "text/plain": [
       "[<matplotlib.lines.Line2D at 0x17459cd9fc8>]"
      ]
     },
     "execution_count": 315,
     "metadata": {},
     "output_type": "execute_result"
    },
    {
     "data": {
      "image/png": "[encoded data removed]",
      "text/plain": [
       "<Figure size 432x288 with 1 Axes>"
      ]
     },
     "metadata": {
      "needs_background": "light"
     },
     "output_type": "display_data"
    }
   ],
   "source": [
    "plt.plot(femtenmin_split[:, :, 3].flatten())"
   ]
  },
  {
   "cell_type": "code",
   "execution_count": null,
   "id": "fc2088d6",
   "metadata": {},
   "outputs": [],
   "source": []
  }
 ],
 "metadata": {
  "kernelspec": {
   "display_name": "Python 3",
   "language": "python",
   "name": "python3"
  },
  "language_info": {
   "codemirror_mode": {
    "name": "ipython",
    "version": 3
   },
   "file_extension": ".py",
   "mimetype": "text/x-python",
   "name": "python",
   "nbconvert_exporter": "python",
   "pygments_lexer": "ipython3",
   "version": "3.7.7"
  }
 },
 "nbformat": 4,
 "nbformat_minor": 5
}
