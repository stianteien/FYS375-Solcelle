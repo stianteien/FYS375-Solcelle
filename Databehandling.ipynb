{
 "cells": [
  {
   "cell_type": "markdown",
   "id": "54602384",
   "metadata": {},
   "source": [
    "# FYS375 Modellering av solfanger\n",
    "Gruppe 3 - Høst 2021\n",
    "\n",
    "Likevektskrav:  \n",
    "Innstrålt $\\pm$ 32  \n",
    "Ta $\\pm$ 1.5  \n",
    "Tintlet $\\pm$ 1  \n",
    "massestrøm = mean $\\pm$ 1std"
   ]
  },
  {
   "cell_type": "code",
   "execution_count": 2,
   "id": "e9eec577",
   "metadata": {},
   "outputs": [],
   "source": [
    "import pandas as pd\n",
    "import numpy as np\n",
    "import matplotlib.pyplot as plt"
   ]
  },
  {
   "cell_type": "code",
   "execution_count": 54,
   "id": "6b81aeff",
   "metadata": {},
   "outputs": [
    {
     "data": {
      "text/html": [
       "<div>\n",
       "<style scoped>\n",
       "    .dataframe tbody tr th:only-of-type {\n",
       "        vertical-align: middle;\n",
       "    }\n",
       "\n",
       "    .dataframe tbody tr th {\n",
       "        vertical-align: top;\n",
       "    }\n",
       "\n",
       "    .dataframe thead th {\n",
       "        text-align: right;\n",
       "    }\n",
       "</style>\n",
       "<table border=\"1\" class=\"dataframe\">\n",
       "  <thead>\n",
       "    <tr style=\"text-align: right;\">\n",
       "      <th></th>\n",
       "      <th>Time</th>\n",
       "      <th>Irradiance (W/m2)</th>\n",
       "      <th>Ambient Temperature (C)</th>\n",
       "      <th>Inlet Temperature (C)</th>\n",
       "      <th>Mass flow (g/s)</th>\n",
       "      <th>Outlet Temperature (C)</th>\n",
       "    </tr>\n",
       "  </thead>\n",
       "  <tbody>\n",
       "    <tr>\n",
       "      <th>0</th>\n",
       "      <td>2020-03-01 00:01:00</td>\n",
       "      <td>0.0</td>\n",
       "      <td>0.4</td>\n",
       "      <td>15.6</td>\n",
       "      <td>107.0</td>\n",
       "      <td>23.6</td>\n",
       "    </tr>\n",
       "    <tr>\n",
       "      <th>1</th>\n",
       "      <td>2020-03-01 00:02:00</td>\n",
       "      <td>0.0</td>\n",
       "      <td>0.4</td>\n",
       "      <td>15.6</td>\n",
       "      <td>107.0</td>\n",
       "      <td>23.6</td>\n",
       "    </tr>\n",
       "    <tr>\n",
       "      <th>2</th>\n",
       "      <td>2020-03-01 00:03:00</td>\n",
       "      <td>0.0</td>\n",
       "      <td>0.4</td>\n",
       "      <td>15.6</td>\n",
       "      <td>107.0</td>\n",
       "      <td>23.6</td>\n",
       "    </tr>\n",
       "    <tr>\n",
       "      <th>3</th>\n",
       "      <td>2020-03-01 00:04:00</td>\n",
       "      <td>0.0</td>\n",
       "      <td>0.4</td>\n",
       "      <td>15.6</td>\n",
       "      <td>107.0</td>\n",
       "      <td>23.6</td>\n",
       "    </tr>\n",
       "    <tr>\n",
       "      <th>4</th>\n",
       "      <td>2020-03-01 00:05:00</td>\n",
       "      <td>0.0</td>\n",
       "      <td>0.4</td>\n",
       "      <td>15.6</td>\n",
       "      <td>107.0</td>\n",
       "      <td>23.6</td>\n",
       "    </tr>\n",
       "    <tr>\n",
       "      <th>...</th>\n",
       "      <td>...</td>\n",
       "      <td>...</td>\n",
       "      <td>...</td>\n",
       "      <td>...</td>\n",
       "      <td>...</td>\n",
       "      <td>...</td>\n",
       "    </tr>\n",
       "    <tr>\n",
       "      <th>220314</th>\n",
       "      <td>2020-07-31 23:55:00</td>\n",
       "      <td>-1.0</td>\n",
       "      <td>17.7</td>\n",
       "      <td>25.5</td>\n",
       "      <td>0.0</td>\n",
       "      <td>26.9</td>\n",
       "    </tr>\n",
       "    <tr>\n",
       "      <th>220315</th>\n",
       "      <td>2020-07-31 23:56:00</td>\n",
       "      <td>-1.0</td>\n",
       "      <td>17.8</td>\n",
       "      <td>25.5</td>\n",
       "      <td>0.0</td>\n",
       "      <td>26.9</td>\n",
       "    </tr>\n",
       "    <tr>\n",
       "      <th>220316</th>\n",
       "      <td>2020-07-31 23:57:00</td>\n",
       "      <td>-1.0</td>\n",
       "      <td>17.8</td>\n",
       "      <td>25.5</td>\n",
       "      <td>0.0</td>\n",
       "      <td>26.9</td>\n",
       "    </tr>\n",
       "    <tr>\n",
       "      <th>220317</th>\n",
       "      <td>2020-07-31 23:58:00</td>\n",
       "      <td>-1.0</td>\n",
       "      <td>17.8</td>\n",
       "      <td>25.5</td>\n",
       "      <td>0.0</td>\n",
       "      <td>26.9</td>\n",
       "    </tr>\n",
       "    <tr>\n",
       "      <th>220318</th>\n",
       "      <td>2020-07-31 23:59:00</td>\n",
       "      <td>-1.0</td>\n",
       "      <td>17.8</td>\n",
       "      <td>25.5</td>\n",
       "      <td>0.0</td>\n",
       "      <td>26.9</td>\n",
       "    </tr>\n",
       "  </tbody>\n",
       "</table>\n",
       "<p>220319 rows × 6 columns</p>\n",
       "</div>"
      ],
      "text/plain": [
       "                      Time  Irradiance (W/m2)  Ambient Temperature (C)  \\\n",
       "0      2020-03-01 00:01:00                0.0                      0.4   \n",
       "1      2020-03-01 00:02:00                0.0                      0.4   \n",
       "2      2020-03-01 00:03:00                0.0                      0.4   \n",
       "3      2020-03-01 00:04:00                0.0                      0.4   \n",
       "4      2020-03-01 00:05:00                0.0                      0.4   \n",
       "...                    ...                ...                      ...   \n",
       "220314 2020-07-31 23:55:00               -1.0                     17.7   \n",
       "220315 2020-07-31 23:56:00               -1.0                     17.8   \n",
       "220316 2020-07-31 23:57:00               -1.0                     17.8   \n",
       "220317 2020-07-31 23:58:00               -1.0                     17.8   \n",
       "220318 2020-07-31 23:59:00               -1.0                     17.8   \n",
       "\n",
       "        Inlet Temperature (C)  Mass flow (g/s)  Outlet Temperature (C)  \n",
       "0                        15.6            107.0                    23.6  \n",
       "1                        15.6            107.0                    23.6  \n",
       "2                        15.6            107.0                    23.6  \n",
       "3                        15.6            107.0                    23.6  \n",
       "4                        15.6            107.0                    23.6  \n",
       "...                       ...              ...                     ...  \n",
       "220314                   25.5              0.0                    26.9  \n",
       "220315                   25.5              0.0                    26.9  \n",
       "220316                   25.5              0.0                    26.9  \n",
       "220317                   25.5              0.0                    26.9  \n",
       "220318                   25.5              0.0                    26.9  \n",
       "\n",
       "[220319 rows x 6 columns]"
      ]
     },
     "execution_count": 54,
     "metadata": {},
     "output_type": "execute_result"
    }
   ],
   "source": [
    "data = pd.read_csv(\"Måledata_mars_juli_2020.csv\")\n",
    "data.Time = pd.to_datetime(data.Time)\n",
    "data"
   ]
  },
  {
   "cell_type": "code",
   "execution_count": 45,
   "id": "5db6c409",
   "metadata": {},
   "outputs": [],
   "source": [
    "def find_irradiance(data):\n",
    "    try:\n",
    "        data_irra = data[data[\"Irradiance (W/m2)\"] > 790]\n",
    "    except:\n",
    "        data_irra = data[data[\"Irradience (W/m2)\"] > 790]\n",
    "    return data_irra.to_numpy()"
   ]
  },
  {
   "cell_type": "code",
   "execution_count": 8,
   "id": "bd1d7c66",
   "metadata": {},
   "outputs": [],
   "source": [
    "def find_15_min_intervall(np_data):\n",
    "    info = []\n",
    "    for i, (tid, irradiance, Ta, Ti, ms, To) in enumerate(np_data[15:]):\n",
    "        if tid - np_data[i][0] == pd.Timedelta(\"15m\"):\n",
    "            # save all 15 minutes innside infomration\n",
    "            info.append(np_data[i:i+15])\n",
    "    info = np.array(info)\n",
    "    return info"
   ]
  },
  {
   "cell_type": "markdown",
   "id": "b0c5e1f4",
   "metadata": {},
   "source": [
    "## Sette opp kravene våres til steady-state"
   ]
  },
  {
   "cell_type": "code",
   "execution_count": 17,
   "id": "2e00f418",
   "metadata": {},
   "outputs": [],
   "source": [
    "def steady_state_krav(info):\n",
    "    innenfor_krav = []\n",
    "\n",
    "    for intervall15min in info:\n",
    "        ir_mean, Ta_mean, Ti_mean, _, To_mean = (np.mean(intervall15min[:,1:], axis=0))\n",
    "        if (np.max(abs(ir_mean - intervall15min[:,1])) <= 32 and \n",
    "            np.max(abs(Ta_mean - intervall15min[:,2])) <= 1.5 and \n",
    "            np.max(abs(To_mean - intervall15min[:,5])) <= 1 and\n",
    "            np.min(intervall15min[:,4]) >= 50):\n",
    "\n",
    "            innenfor_krav.append(intervall15min)\n",
    "    innenfor_krav = np.array(innenfor_krav)\n",
    "    return innenfor_krav"
   ]
  },
  {
   "cell_type": "code",
   "execution_count": 22,
   "id": "9986be98",
   "metadata": {},
   "outputs": [],
   "source": [
    "def delete_duplicates(innenfor_krav):\n",
    "    femtenmin_split = np.array(innenfor_krav[0:2])\n",
    "\n",
    "    for i,v in enumerate(innenfor_krav[2:]):\n",
    "        print(f\"{i} av {len(innenfor_krav[2:])}\",end=\"\\r\")\n",
    "        if not np.isin(v[:,0], femtenmin_split[:, :, 0]).any():\n",
    "            #print(\"legger til\")\n",
    "            femtenmin_split = np.append(femtenmin_split, [v], axis=0)\n",
    "\n",
    "    femtenmin_split = femtenmin_split[1:]\n",
    "    return femtenmin_split"
   ]
  },
  {
   "cell_type": "markdown",
   "id": "a7f35537",
   "metadata": {},
   "source": [
    "## Fjerne rare massestrømmer: mean $\\pm$ 1std"
   ]
  },
  {
   "cell_type": "code",
   "execution_count": 20,
   "id": "5e0a5d04",
   "metadata": {},
   "outputs": [],
   "source": [
    "def remove_ms_std(femtenmin_split):\n",
    "    snitt = np.mean(femtenmin_split[:, :, 4].flatten())\n",
    "    std = np.std(femtenmin_split[:, :, 4].flatten())\n",
    "\n",
    "    femtenmin_split = femtenmin_split[(abs(femtenmin_split[:,:,4] - snitt) /std <= 1).any(axis=1)]\n",
    "    print(f\"snitt: {snitt:.2f}, std:{std:.2f}\")\n",
    "    return femtenmin_split"
   ]
  },
  {
   "cell_type": "code",
   "execution_count": 23,
   "id": "326db35c",
   "metadata": {},
   "outputs": [
    {
     "name": "stdout",
     "output_type": "stream",
     "text": [
      "snitt: 374.29, std:42.89\n"
     ]
    }
   ],
   "source": [
    "data_irra = find_irradiance(data)\n",
    "info = find_15_min_intervall(data_irra)\n",
    "innenfor_krav = steady_state_krav(info)\n",
    "femtenmi_split = delete_duplicates(innenfor_krav)\n",
    "femtenmi_split = remove_ms_std(femtenmi_split)"
   ]
  },
  {
   "cell_type": "code",
   "execution_count": 16,
   "id": "be2cf4ac",
   "metadata": {},
   "outputs": [
    {
     "data": {
      "text/plain": [
       "(652, 15, 6)"
      ]
     },
     "execution_count": 16,
     "metadata": {},
     "output_type": "execute_result"
    }
   ],
   "source": [
    "femtenmin_split.shape"
   ]
  },
  {
   "cell_type": "code",
   "execution_count": 14,
   "id": "57f4a640",
   "metadata": {},
   "outputs": [
    {
     "data": {
      "text/html": [
       "<div>\n",
       "<style scoped>\n",
       "    .dataframe tbody tr th:only-of-type {\n",
       "        vertical-align: middle;\n",
       "    }\n",
       "\n",
       "    .dataframe tbody tr th {\n",
       "        vertical-align: top;\n",
       "    }\n",
       "\n",
       "    .dataframe thead th {\n",
       "        text-align: right;\n",
       "    }\n",
       "</style>\n",
       "<table border=\"1\" class=\"dataframe\">\n",
       "  <thead>\n",
       "    <tr style=\"text-align: right;\">\n",
       "      <th></th>\n",
       "      <th>0</th>\n",
       "      <th>1</th>\n",
       "      <th>2</th>\n",
       "      <th>3</th>\n",
       "      <th>4</th>\n",
       "      <th>5</th>\n",
       "    </tr>\n",
       "  </thead>\n",
       "  <tbody>\n",
       "    <tr>\n",
       "      <th>0</th>\n",
       "      <td>2020-05-27 15:19:00</td>\n",
       "      <td>855.0</td>\n",
       "      <td>17.7</td>\n",
       "      <td>20.1</td>\n",
       "      <td>335.0</td>\n",
       "      <td>41.95</td>\n",
       "    </tr>\n",
       "    <tr>\n",
       "      <th>1</th>\n",
       "      <td>2020-05-27 15:20:00</td>\n",
       "      <td>853.0</td>\n",
       "      <td>18.0</td>\n",
       "      <td>20.1</td>\n",
       "      <td>335.0</td>\n",
       "      <td>41.95</td>\n",
       "    </tr>\n",
       "    <tr>\n",
       "      <th>2</th>\n",
       "      <td>2020-05-27 15:21:00</td>\n",
       "      <td>850.0</td>\n",
       "      <td>18.1</td>\n",
       "      <td>20.1</td>\n",
       "      <td>334.0</td>\n",
       "      <td>42.05</td>\n",
       "    </tr>\n",
       "    <tr>\n",
       "      <th>3</th>\n",
       "      <td>2020-05-27 15:22:00</td>\n",
       "      <td>848.0</td>\n",
       "      <td>18.2</td>\n",
       "      <td>20.2</td>\n",
       "      <td>334.0</td>\n",
       "      <td>42.25</td>\n",
       "    </tr>\n",
       "    <tr>\n",
       "      <th>4</th>\n",
       "      <td>2020-05-27 15:23:00</td>\n",
       "      <td>846.0</td>\n",
       "      <td>18.2</td>\n",
       "      <td>20.1</td>\n",
       "      <td>332.0</td>\n",
       "      <td>42.25</td>\n",
       "    </tr>\n",
       "    <tr>\n",
       "      <th>5</th>\n",
       "      <td>2020-05-27 15:24:00</td>\n",
       "      <td>844.0</td>\n",
       "      <td>17.8</td>\n",
       "      <td>20.1</td>\n",
       "      <td>331.0</td>\n",
       "      <td>42.30</td>\n",
       "    </tr>\n",
       "    <tr>\n",
       "      <th>6</th>\n",
       "      <td>2020-05-27 15:25:00</td>\n",
       "      <td>841.0</td>\n",
       "      <td>17.6</td>\n",
       "      <td>20.2</td>\n",
       "      <td>330.0</td>\n",
       "      <td>42.30</td>\n",
       "    </tr>\n",
       "    <tr>\n",
       "      <th>7</th>\n",
       "      <td>2020-05-27 15:26:00</td>\n",
       "      <td>839.0</td>\n",
       "      <td>18.0</td>\n",
       "      <td>20.2</td>\n",
       "      <td>330.0</td>\n",
       "      <td>42.30</td>\n",
       "    </tr>\n",
       "    <tr>\n",
       "      <th>8</th>\n",
       "      <td>2020-05-27 15:27:00</td>\n",
       "      <td>837.0</td>\n",
       "      <td>18.2</td>\n",
       "      <td>20.2</td>\n",
       "      <td>330.0</td>\n",
       "      <td>42.30</td>\n",
       "    </tr>\n",
       "    <tr>\n",
       "      <th>9</th>\n",
       "      <td>2020-05-27 15:28:00</td>\n",
       "      <td>835.0</td>\n",
       "      <td>18.2</td>\n",
       "      <td>20.2</td>\n",
       "      <td>328.0</td>\n",
       "      <td>42.30</td>\n",
       "    </tr>\n",
       "    <tr>\n",
       "      <th>10</th>\n",
       "      <td>2020-05-27 15:29:00</td>\n",
       "      <td>833.0</td>\n",
       "      <td>17.6</td>\n",
       "      <td>20.1</td>\n",
       "      <td>328.0</td>\n",
       "      <td>42.30</td>\n",
       "    </tr>\n",
       "    <tr>\n",
       "      <th>11</th>\n",
       "      <td>2020-05-27 15:30:00</td>\n",
       "      <td>830.0</td>\n",
       "      <td>17.3</td>\n",
       "      <td>20.1</td>\n",
       "      <td>326.0</td>\n",
       "      <td>42.30</td>\n",
       "    </tr>\n",
       "    <tr>\n",
       "      <th>12</th>\n",
       "      <td>2020-05-27 15:31:00</td>\n",
       "      <td>828.0</td>\n",
       "      <td>17.6</td>\n",
       "      <td>20.1</td>\n",
       "      <td>326.0</td>\n",
       "      <td>42.25</td>\n",
       "    </tr>\n",
       "    <tr>\n",
       "      <th>13</th>\n",
       "      <td>2020-05-27 15:32:00</td>\n",
       "      <td>826.0</td>\n",
       "      <td>17.3</td>\n",
       "      <td>20.2</td>\n",
       "      <td>326.0</td>\n",
       "      <td>42.20</td>\n",
       "    </tr>\n",
       "    <tr>\n",
       "      <th>14</th>\n",
       "      <td>2020-05-27 15:33:00</td>\n",
       "      <td>824.0</td>\n",
       "      <td>17.3</td>\n",
       "      <td>20.2</td>\n",
       "      <td>324.0</td>\n",
       "      <td>42.20</td>\n",
       "    </tr>\n",
       "  </tbody>\n",
       "</table>\n",
       "</div>"
      ],
      "text/plain": [
       "                     0      1     2     3      4      5\n",
       "0  2020-05-27 15:19:00  855.0  17.7  20.1  335.0  41.95\n",
       "1  2020-05-27 15:20:00  853.0  18.0  20.1  335.0  41.95\n",
       "2  2020-05-27 15:21:00  850.0  18.1  20.1  334.0  42.05\n",
       "3  2020-05-27 15:22:00  848.0  18.2  20.2  334.0  42.25\n",
       "4  2020-05-27 15:23:00  846.0  18.2  20.1  332.0  42.25\n",
       "5  2020-05-27 15:24:00  844.0  17.8  20.1  331.0  42.30\n",
       "6  2020-05-27 15:25:00  841.0  17.6  20.2  330.0  42.30\n",
       "7  2020-05-27 15:26:00  839.0  18.0  20.2  330.0  42.30\n",
       "8  2020-05-27 15:27:00  837.0  18.2  20.2  330.0  42.30\n",
       "9  2020-05-27 15:28:00  835.0  18.2  20.2  328.0  42.30\n",
       "10 2020-05-27 15:29:00  833.0  17.6  20.1  328.0  42.30\n",
       "11 2020-05-27 15:30:00  830.0  17.3  20.1  326.0  42.30\n",
       "12 2020-05-27 15:31:00  828.0  17.6  20.1  326.0  42.25\n",
       "13 2020-05-27 15:32:00  826.0  17.3  20.2  326.0  42.20\n",
       "14 2020-05-27 15:33:00  824.0  17.3  20.2  324.0  42.20"
      ]
     },
     "execution_count": 14,
     "metadata": {},
     "output_type": "execute_result"
    }
   ],
   "source": [
    "pd.DataFrame(femtenmin_split[251])"
   ]
  },
  {
   "cell_type": "markdown",
   "id": "b4bc9f2b",
   "metadata": {},
   "source": [
    "# Modellering\n",
    "\n",
    "### Finne variabel (X) veridene for hvert momentanpunkt:   \n",
    "(1) $\\frac{T_i - T_a}{G_T}$  Tm2/W  \n",
    "\n",
    "### Finne virkningsgrad ved å se max effekt og Q  \n",
    "(2) $\\eta = \\frac{Q}{E_{max}}$\n",
    "\n",
    "\n",
    "### Virkinggrad er da Q / max effekt  \n",
    "Q er hvor mye effekt som har gått ned i å varme opp vannet. $Q = m * c * \\Delta T$   [g/s * j/(kg * K) * K] =\n",
    "[g/s * j/kg] = [g/s * j/g] = [j/s] = [W]\n",
    "\n",
    "c = 4.183 j/g K  \n",
    "(3) $Q = \\dot{m} * c * \\Delta T $ [W]\n",
    "\n",
    "### Max effekt\n",
    "Solfanger er 67,2 m2  \n",
    "(4) $GA = G * A $  \n",
    "Der A = 67.2 m2 og G = G\n",
    "\n",
    "### Varmetapskoef\n",
    "$U_{L} = \\frac{Q}{A \\Delta T}$ [W/m2*K]"
   ]
  },
  {
   "cell_type": "code",
   "execution_count": 40,
   "id": "ecde47f7",
   "metadata": {},
   "outputs": [],
   "source": [
    "def formulas(femtenmin_split):\n",
    "    X = []\n",
    "    Q = []\n",
    "    GA = []\n",
    "    for i in femtenmin_split:\n",
    "        ir_mean, Ta_mean, Ti_mean, m_s_mean, To_mean = np.mean(i[:, 1:], axis=0)\n",
    "\n",
    "        # X formelen\n",
    "        x = (Ti_mean - Ta_mean)/ir_mean \n",
    "        X.append(x)\n",
    "\n",
    "        # Q formelen\n",
    "        q = m_s_mean * 4.183 * (To_mean - Ti_mean)\n",
    "        Q.append(q)\n",
    "\n",
    "        # GA foremlen\n",
    "        ga = ir_mean * 67.2\n",
    "        GA.append(ga)\n",
    "\n",
    "\n",
    "    X = np.array(X)\n",
    "    Q = np.array(Q)\n",
    "    GA = np.array(GA)\n",
    "    n = Q/GA\n",
    "    return X, Q, GA, n"
   ]
  },
  {
   "cell_type": "code",
   "execution_count": 41,
   "id": "f3ecb301",
   "metadata": {},
   "outputs": [],
   "source": [
    "X, Q, GA, n = formulas(femtenmi_split)"
   ]
  },
  {
   "cell_type": "code",
   "execution_count": 42,
   "id": "788f0a2c",
   "metadata": {},
   "outputs": [
    {
     "data": {
      "image/png": "[encoded data removed]",
      "text/plain": [
       "<Figure size 432x288 with 1 Axes>"
      ]
     },
     "metadata": {
      "needs_background": "light"
     },
     "output_type": "display_data"
    }
   ],
   "source": [
    "plt.scatter(X[n>0.2],n[n>0.2])\n",
    "plt.grid()\n",
    "plt.xlabel(\"X\")\n",
    "plt.ylabel(\"$\\eta_{momentant}$\")\n",
    "plt.show()"
   ]
  },
  {
   "cell_type": "code",
   "execution_count": 30,
   "id": "d020f41b",
   "metadata": {},
   "outputs": [
    {
     "data": {
      "text/plain": [
       "0.7883133870578287"
      ]
     },
     "execution_count": 30,
     "metadata": {},
     "output_type": "execute_result"
    }
   ],
   "source": [
    "from sklearn.linear_model import LinearRegression\n",
    "reg = LinearRegression().fit(X[n>0.2].reshape(-1,1),n[n>0.2].reshape(-1,1))\n",
    "reg.score(X[n>0.2].reshape(-1,1),n[n>0.2].reshape(-1,1))"
   ]
  },
  {
   "cell_type": "code",
   "execution_count": 31,
   "id": "7f19b324",
   "metadata": {},
   "outputs": [
    {
     "data": {
      "text/plain": [
       "(652, 1)"
      ]
     },
     "execution_count": 31,
     "metadata": {},
     "output_type": "execute_result"
    }
   ],
   "source": [
    "X.reshape(-1,1).shape"
   ]
  },
  {
   "cell_type": "code",
   "execution_count": 32,
   "id": "1cca323c",
   "metadata": {},
   "outputs": [],
   "source": [
    "pred = reg.predict(X[n>0.2].reshape(-1,1))"
   ]
  },
  {
   "cell_type": "code",
   "execution_count": 33,
   "id": "02192412",
   "metadata": {},
   "outputs": [
    {
     "data": {
      "image/png": "[encoded data removed]",
      "text/plain": [
       "<Figure size 432x288 with 1 Axes>"
      ]
     },
     "metadata": {
      "needs_background": "light"
     },
     "output_type": "display_data"
    }
   ],
   "source": [
    "plt.scatter(X[n>0.2],n[n>0.2])\n",
    "plt.plot(X[n>0.2],pred, c=\"red\", label=\"model\")\n",
    "plt.grid()\n",
    "plt.xlabel(\"X?\")\n",
    "plt.ylabel(\"$\\eta_{momentant}$\")\n",
    "plt.show()"
   ]
  },
  {
   "cell_type": "code",
   "execution_count": 34,
   "id": "b349b552",
   "metadata": {},
   "outputs": [
    {
     "name": "stdout",
     "output_type": "stream",
     "text": [
      "b1: [[-5.76420619]].. = Fr*Ul\n"
     ]
    }
   ],
   "source": [
    "print(f\"b1: {reg.coef_}.. = Fr*Ul\")"
   ]
  },
  {
   "cell_type": "code",
   "execution_count": 35,
   "id": "92a7861c",
   "metadata": {},
   "outputs": [
    {
     "name": "stdout",
     "output_type": "stream",
     "text": [
      "b0: [0.56297855].. = FR(τα)\n"
     ]
    }
   ],
   "source": [
    "print(f\"b0: {reg.intercept_}.. = FR(τα)\")"
   ]
  },
  {
   "cell_type": "code",
   "execution_count": 38,
   "id": "a6873331",
   "metadata": {},
   "outputs": [
    {
     "name": "stdout",
     "output_type": "stream",
     "text": [
      "F_r er [0.69718706]\n"
     ]
    }
   ],
   "source": [
    "Fr = reg.intercept_ / (0.85 * 0.95) \n",
    "print(f\"F_r er {Fr}\")"
   ]
  },
  {
   "cell_type": "code",
   "execution_count": 39,
   "id": "dff1b1b3",
   "metadata": {},
   "outputs": [
    {
     "name": "stdout",
     "output_type": "stream",
     "text": [
      "Ul er [-8.26780434]\n"
     ]
    }
   ],
   "source": [
    "Ul  = reg.coef_[0][0] / Fr\n",
    "print(f\"Ul er {Ul}\")"
   ]
  },
  {
   "cell_type": "code",
   "execution_count": 24,
   "id": "82fa8a18",
   "metadata": {},
   "outputs": [
    {
     "data": {
      "image/png": "[encoded data removed]",
      "text/plain": [
       "<Figure size 432x288 with 1 Axes>"
      ]
     },
     "metadata": {
      "needs_background": "light"
     },
     "output_type": "display_data"
    }
   ],
   "source": [
    "dårlig_prediksjon = [0.5 for i in range(584)]\n",
    "plt.scatter(X[n>0.2],n[n>0.2])\n",
    "plt.plot(X[n>0.2],pred, c=\"red\", label=\"Modell\")\n",
    "plt.plot(X[n>0.2],dårlig_prediksjon, c=\"green\", label=\"benchmark modell\")\n",
    "plt.grid()\n",
    "plt.legend()\n",
    "plt.xlabel(\"X?\")\n",
    "plt.ylabel(\"$\\eta_{momentant}$\")\n",
    "plt.show()"
   ]
  },
  {
   "cell_type": "code",
   "execution_count": 25,
   "id": "8c2fa1f7",
   "metadata": {},
   "outputs": [
    {
     "name": "stdout",
     "output_type": "stream",
     "text": [
      "Lav er bra \n",
      "Dårlig model: 0.108 \n",
      "God modell: 0.02\n"
     ]
    }
   ],
   "source": [
    "from sklearn.metrics import mean_absolute_percentage_error\n",
    "print(f\"Lav er bra \\n\\\n",
    "Dårlig model: {mean_absolute_percentage_error(n[n>0.2], dårlig_prediksjon):.4f} \\n\\\n",
    "God modell: {mean_absolute_percentage_error(n[n>0.2], pred):.4f}\")"
   ]
  },
  {
   "cell_type": "markdown",
   "id": "c3e1f25b",
   "metadata": {},
   "source": [
    "# Test modell på ukjent data\n",
    "Last data fra 2021 og se hvordan modellen gjør det. Alt må gjøres på nytt"
   ]
  },
  {
   "cell_type": "code",
   "execution_count": 47,
   "id": "3f9ddb8c",
   "metadata": {},
   "outputs": [
    {
     "name": "stdout",
     "output_type": "stream",
     "text": [
      "snitt: 377.05, std:38.86\n"
     ]
    }
   ],
   "source": [
    "data2021 = pd.read_csv(\"Måledata_mars_juli_2021.csv\")\n",
    "data2021.Time = pd.to_datetime(data2021.Time)\n",
    "data_irra = find_irradiance(data2021)\n",
    "info = find_15_min_intervall(data_irra)\n",
    "innenfor_krav = steady_state_krav(info)\n",
    "femtenmi_split = delete_duplicates(innenfor_krav)\n",
    "femtenmi_split = remove_ms_std(femtenmi_split)"
   ]
  },
  {
   "cell_type": "markdown",
   "id": "798aadb3",
   "metadata": {},
   "source": [
    "# Plot resultat\n",
    "Forandre verdier hvis jeg gidder"
   ]
  },
  {
   "cell_type": "code",
   "execution_count": 48,
   "id": "90d8c468",
   "metadata": {},
   "outputs": [],
   "source": [
    "X, Q, GA, n = formulas(femtenmi_split)"
   ]
  },
  {
   "cell_type": "code",
   "execution_count": 49,
   "id": "98e58109",
   "metadata": {},
   "outputs": [
    {
     "data": {
      "image/png": "[encoded data removed]",
      "text/plain": [
       "<Figure size 432x288 with 1 Axes>"
      ]
     },
     "metadata": {
      "needs_background": "light"
     },
     "output_type": "display_data"
    }
   ],
   "source": [
    "plt.scatter(X[n>0.2],n[n>0.2])\n",
    "plt.grid()\n",
    "plt.xlabel(\"X\")\n",
    "plt.ylabel(\"$\\eta_{momentant}$\")\n",
    "plt.show()"
   ]
  },
  {
   "cell_type": "code",
   "execution_count": 50,
   "id": "6a3de71c",
   "metadata": {},
   "outputs": [
    {
     "data": {
      "image/png": "[encoded data removed]",
      "text/plain": [
       "<Figure size 432x288 with 1 Axes>"
      ]
     },
     "metadata": {
      "needs_background": "light"
     },
     "output_type": "display_data"
    }
   ],
   "source": [
    "pred = reg.predict(X[n>0.2].reshape(-1,1))\n",
    "plt.scatter(X[n>0.2],n[n>0.2])\n",
    "plt.plot(X[n>0.2],pred, c=\"red\", label=\"model\")\n",
    "plt.grid()\n",
    "plt.xlabel(\"X?\")\n",
    "plt.ylabel(\"$\\eta_{momentant}$\")\n",
    "plt.show()"
   ]
  },
  {
   "cell_type": "code",
   "execution_count": 51,
   "id": "c0be6beb",
   "metadata": {},
   "outputs": [
    {
     "ename": "NameError",
     "evalue": "name 'mean_absolute_percentage_error' is not defined",
     "output_type": "error",
     "traceback": [
      "\u001b[1;31m---------------------------------------------------------------------------\u001b[0m",
      "\u001b[1;31mNameError\u001b[0m                                 Traceback (most recent call last)",
      "\u001b[1;32m<ipython-input-51-bbaa0d3b0721>\u001b[0m in \u001b[0;36m<module>\u001b[1;34m\u001b[0m\n\u001b[1;32m----> 1\u001b[1;33m \u001b[0mprint\u001b[0m\u001b[1;33m(\u001b[0m\u001b[0mmean_absolute_percentage_error\u001b[0m\u001b[1;33m(\u001b[0m\u001b[0mn\u001b[0m\u001b[1;33m[\u001b[0m\u001b[0mn\u001b[0m\u001b[1;33m>\u001b[0m\u001b[1;36m0.2\u001b[0m\u001b[1;33m]\u001b[0m\u001b[1;33m,\u001b[0m \u001b[0mpred\u001b[0m\u001b[1;33m)\u001b[0m\u001b[1;33m)\u001b[0m\u001b[1;33m\u001b[0m\u001b[1;33m\u001b[0m\u001b[0m\n\u001b[0m",
      "\u001b[1;31mNameError\u001b[0m: name 'mean_absolute_percentage_error' is not defined"
     ]
    }
   ],
   "source": [
    "print(mean_absolute_percentage_error(n[n>0.2], pred))"
   ]
  },
  {
   "cell_type": "code",
   "execution_count": 52,
   "id": "56406604",
   "metadata": {
    "scrolled": true
   },
   "outputs": [
    {
     "ename": "NameError",
     "evalue": "name 'r2_score' is not defined",
     "output_type": "error",
     "traceback": [
      "\u001b[1;31m---------------------------------------------------------------------------\u001b[0m",
      "\u001b[1;31mNameError\u001b[0m                                 Traceback (most recent call last)",
      "\u001b[1;32m<ipython-input-52-1d254b55225b>\u001b[0m in \u001b[0;36m<module>\u001b[1;34m\u001b[0m\n\u001b[1;32m----> 1\u001b[1;33m \u001b[0mr2_score\u001b[0m\u001b[1;33m(\u001b[0m\u001b[0mn\u001b[0m\u001b[1;33m[\u001b[0m\u001b[0mn\u001b[0m\u001b[1;33m>\u001b[0m\u001b[1;36m0.2\u001b[0m\u001b[1;33m]\u001b[0m\u001b[1;33m,\u001b[0m \u001b[0mpred\u001b[0m\u001b[1;33m)\u001b[0m\u001b[1;33m\u001b[0m\u001b[1;33m\u001b[0m\u001b[0m\n\u001b[0m",
      "\u001b[1;31mNameError\u001b[0m: name 'r2_score' is not defined"
     ]
    }
   ],
   "source": [
    "r2_score(n[n>0.2], pred)"
   ]
  },
  {
   "cell_type": "markdown",
   "id": "e9a06032",
   "metadata": {},
   "source": [
    "## Estimere Q for 2021"
   ]
  },
  {
   "cell_type": "code",
   "execution_count": 123,
   "id": "222baf1d",
   "metadata": {},
   "outputs": [],
   "source": [
    "data = pd.read_csv(\"Måledata_mars_juli_2021.csv\")"
   ]
  },
  {
   "cell_type": "code",
   "execution_count": 124,
   "id": "da7952b5",
   "metadata": {},
   "outputs": [
    {
     "data": {
      "text/html": [
       "<div>\n",
       "<style scoped>\n",
       "    .dataframe tbody tr th:only-of-type {\n",
       "        vertical-align: middle;\n",
       "    }\n",
       "\n",
       "    .dataframe tbody tr th {\n",
       "        vertical-align: top;\n",
       "    }\n",
       "\n",
       "    .dataframe thead th {\n",
       "        text-align: right;\n",
       "    }\n",
       "</style>\n",
       "<table border=\"1\" class=\"dataframe\">\n",
       "  <thead>\n",
       "    <tr style=\"text-align: right;\">\n",
       "      <th></th>\n",
       "      <th>Irradience (W/m2)</th>\n",
       "      <th>Ambient Temperature (C)</th>\n",
       "      <th>Inlet Temperature (C)</th>\n",
       "      <th>Mass flow (g/s)</th>\n",
       "      <th>Outlet Temperature (C)</th>\n",
       "    </tr>\n",
       "    <tr>\n",
       "      <th>Time</th>\n",
       "      <th></th>\n",
       "      <th></th>\n",
       "      <th></th>\n",
       "      <th></th>\n",
       "      <th></th>\n",
       "    </tr>\n",
       "  </thead>\n",
       "  <tbody>\n",
       "    <tr>\n",
       "      <th>2021-03-03 11:56:00</th>\n",
       "      <td>111.0</td>\n",
       "      <td>0.4</td>\n",
       "      <td>22.2</td>\n",
       "      <td>0.0</td>\n",
       "      <td>26.70</td>\n",
       "    </tr>\n",
       "    <tr>\n",
       "      <th>2021-03-03 11:57:00</th>\n",
       "      <td>111.0</td>\n",
       "      <td>0.4</td>\n",
       "      <td>22.2</td>\n",
       "      <td>0.0</td>\n",
       "      <td>26.70</td>\n",
       "    </tr>\n",
       "    <tr>\n",
       "      <th>2021-03-03 11:58:00</th>\n",
       "      <td>108.0</td>\n",
       "      <td>0.4</td>\n",
       "      <td>22.2</td>\n",
       "      <td>0.0</td>\n",
       "      <td>26.65</td>\n",
       "    </tr>\n",
       "    <tr>\n",
       "      <th>2021-03-03 11:59:00</th>\n",
       "      <td>107.0</td>\n",
       "      <td>0.4</td>\n",
       "      <td>22.2</td>\n",
       "      <td>0.0</td>\n",
       "      <td>26.60</td>\n",
       "    </tr>\n",
       "    <tr>\n",
       "      <th>2021-03-03 12:00:00</th>\n",
       "      <td>103.0</td>\n",
       "      <td>0.4</td>\n",
       "      <td>22.2</td>\n",
       "      <td>0.0</td>\n",
       "      <td>26.60</td>\n",
       "    </tr>\n",
       "    <tr>\n",
       "      <th>...</th>\n",
       "      <td>...</td>\n",
       "      <td>...</td>\n",
       "      <td>...</td>\n",
       "      <td>...</td>\n",
       "      <td>...</td>\n",
       "    </tr>\n",
       "    <tr>\n",
       "      <th>2021-07-31 23:55:00</th>\n",
       "      <td>-1.0</td>\n",
       "      <td>15.9</td>\n",
       "      <td>26.0</td>\n",
       "      <td>0.0</td>\n",
       "      <td>26.75</td>\n",
       "    </tr>\n",
       "    <tr>\n",
       "      <th>2021-07-31 23:56:00</th>\n",
       "      <td>-1.0</td>\n",
       "      <td>15.9</td>\n",
       "      <td>26.0</td>\n",
       "      <td>0.0</td>\n",
       "      <td>26.75</td>\n",
       "    </tr>\n",
       "    <tr>\n",
       "      <th>2021-07-31 23:57:00</th>\n",
       "      <td>-1.0</td>\n",
       "      <td>15.9</td>\n",
       "      <td>26.0</td>\n",
       "      <td>0.0</td>\n",
       "      <td>26.75</td>\n",
       "    </tr>\n",
       "    <tr>\n",
       "      <th>2021-07-31 23:58:00</th>\n",
       "      <td>-1.0</td>\n",
       "      <td>15.9</td>\n",
       "      <td>26.0</td>\n",
       "      <td>0.0</td>\n",
       "      <td>26.75</td>\n",
       "    </tr>\n",
       "    <tr>\n",
       "      <th>2021-07-31 23:59:00</th>\n",
       "      <td>-1.0</td>\n",
       "      <td>15.9</td>\n",
       "      <td>26.0</td>\n",
       "      <td>0.0</td>\n",
       "      <td>26.75</td>\n",
       "    </tr>\n",
       "  </tbody>\n",
       "</table>\n",
       "<p>216724 rows × 5 columns</p>\n",
       "</div>"
      ],
      "text/plain": [
       "                     Irradience (W/m2)  Ambient Temperature (C)  \\\n",
       "Time                                                              \n",
       "2021-03-03 11:56:00              111.0                      0.4   \n",
       "2021-03-03 11:57:00              111.0                      0.4   \n",
       "2021-03-03 11:58:00              108.0                      0.4   \n",
       "2021-03-03 11:59:00              107.0                      0.4   \n",
       "2021-03-03 12:00:00              103.0                      0.4   \n",
       "...                                ...                      ...   \n",
       "2021-07-31 23:55:00               -1.0                     15.9   \n",
       "2021-07-31 23:56:00               -1.0                     15.9   \n",
       "2021-07-31 23:57:00               -1.0                     15.9   \n",
       "2021-07-31 23:58:00               -1.0                     15.9   \n",
       "2021-07-31 23:59:00               -1.0                     15.9   \n",
       "\n",
       "                     Inlet Temperature (C)  Mass flow (g/s)  \\\n",
       "Time                                                          \n",
       "2021-03-03 11:56:00                   22.2              0.0   \n",
       "2021-03-03 11:57:00                   22.2              0.0   \n",
       "2021-03-03 11:58:00                   22.2              0.0   \n",
       "2021-03-03 11:59:00                   22.2              0.0   \n",
       "2021-03-03 12:00:00                   22.2              0.0   \n",
       "...                                    ...              ...   \n",
       "2021-07-31 23:55:00                   26.0              0.0   \n",
       "2021-07-31 23:56:00                   26.0              0.0   \n",
       "2021-07-31 23:57:00                   26.0              0.0   \n",
       "2021-07-31 23:58:00                   26.0              0.0   \n",
       "2021-07-31 23:59:00                   26.0              0.0   \n",
       "\n",
       "                     Outlet Temperature (C)  \n",
       "Time                                         \n",
       "2021-03-03 11:56:00                   26.70  \n",
       "2021-03-03 11:57:00                   26.70  \n",
       "2021-03-03 11:58:00                   26.65  \n",
       "2021-03-03 11:59:00                   26.60  \n",
       "2021-03-03 12:00:00                   26.60  \n",
       "...                                     ...  \n",
       "2021-07-31 23:55:00                   26.75  \n",
       "2021-07-31 23:56:00                   26.75  \n",
       "2021-07-31 23:57:00                   26.75  \n",
       "2021-07-31 23:58:00                   26.75  \n",
       "2021-07-31 23:59:00                   26.75  \n",
       "\n",
       "[216724 rows x 5 columns]"
      ]
     },
     "execution_count": 124,
     "metadata": {},
     "output_type": "execute_result"
    }
   ],
   "source": [
    "data.Time = pd.to_datetime(data.Time)\n",
    "data.index = data.Time\n",
    "data = data.drop(columns=[\"Time\"])\n",
    "data"
   ]
  },
  {
   "cell_type": "code",
   "execution_count": 125,
   "id": "4d972a1a",
   "metadata": {},
   "outputs": [],
   "source": [
    "data[\"energi [kWh]\"] = data[\"Mass flow (g/s)\"] * 4.183 * (data[\"Outlet Temperature (C)\"] - data[\"Inlet Temperature (C)\"]) * (1/60) *1e-3"
   ]
  },
  {
   "cell_type": "markdown",
   "id": "365a4d6a",
   "metadata": {},
   "source": [
    "$\\eta = \\frac{Q}{GA} = Fr * (\\tau \\alpha) - Fr * Ul \\frac{T_i - T_a}{G} $  \n",
    "\n",
    "$Q = Fr *  (\\tau \\alpha) * GA - Fr * Ul (T_i - T_a) * A $\n",
    "\n",
    "$\\eta = \\frac{Q}{GA} = \\frac{\\dot{m} * c * \\Delta T}{GA}$"
   ]
  },
  {
   "cell_type": "code",
   "execution_count": 132,
   "id": "a2e2126d",
   "metadata": {},
   "outputs": [],
   "source": [
    "Fr = 0.69718706\n",
    "Ul = -8.26780434\n",
    "tau = 0.85\n",
    "alpha = 0.95\n",
    "areal = 67.2\n",
    "#data[\"pred eta\"] = Fr * (tau * alpha) - Fr * Ul * (data[\"Inlet Temperature (C)\"] -data[\"Ambient Temperature (C)\"])/ data[\"Irradiance (W/m2)\"]\n",
    "#data[\"eta\"] = (data[\"Mass flow (g/s)\"] * 4.183 * (data[\"Outlet Temperature (C)\"] - data[\"Inlet Temperature (C)\"]))/( data[\"Irradiance (W/m2)\"]*areal)\n",
    "\n",
    "data[\"pred Q [W]\"] = Fr * (tau * alpha) * data[\"Irradience (W/m2)\"] * areal - Fr * Ul * (data[\"Inlet Temperature (C)\"] -data[\"Ambient Temperature (C)\"]) * areal\n",
    "data[\"pred energi [kWh]\"] = data[\"pred Q [W]\"] * (1/60) * 1e-3\n",
    "data[\"dårligmodell [kWh]\"] = data['Irradience (W/m2)'] * areal * 0.5 * (1/60) * 1e-3"
   ]
  },
  {
   "cell_type": "code",
   "execution_count": 133,
   "id": "d7d85710",
   "metadata": {},
   "outputs": [
    {
     "data": {
      "text/html": [
       "<div>\n",
       "<style scoped>\n",
       "    .dataframe tbody tr th:only-of-type {\n",
       "        vertical-align: middle;\n",
       "    }\n",
       "\n",
       "    .dataframe tbody tr th {\n",
       "        vertical-align: top;\n",
       "    }\n",
       "\n",
       "    .dataframe thead th {\n",
       "        text-align: right;\n",
       "    }\n",
       "</style>\n",
       "<table border=\"1\" class=\"dataframe\">\n",
       "  <thead>\n",
       "    <tr style=\"text-align: right;\">\n",
       "      <th></th>\n",
       "      <th>energi [kWh]</th>\n",
       "      <th>pred energi [kWh]</th>\n",
       "    </tr>\n",
       "    <tr>\n",
       "      <th>Time</th>\n",
       "      <th></th>\n",
       "      <th></th>\n",
       "    </tr>\n",
       "  </thead>\n",
       "  <tbody>\n",
       "    <tr>\n",
       "      <th>2021-03-03</th>\n",
       "      <td>0.000000</td>\n",
       "      <td>114.647936</td>\n",
       "    </tr>\n",
       "    <tr>\n",
       "      <th>2021-03-04</th>\n",
       "      <td>127.112732</td>\n",
       "      <td>332.783125</td>\n",
       "    </tr>\n",
       "    <tr>\n",
       "      <th>2021-03-05</th>\n",
       "      <td>131.633527</td>\n",
       "      <td>343.666286</td>\n",
       "    </tr>\n",
       "    <tr>\n",
       "      <th>2021-03-06</th>\n",
       "      <td>1.094667</td>\n",
       "      <td>173.596549</td>\n",
       "    </tr>\n",
       "    <tr>\n",
       "      <th>2021-03-07</th>\n",
       "      <td>114.626097</td>\n",
       "      <td>317.516674</td>\n",
       "    </tr>\n",
       "    <tr>\n",
       "      <th>...</th>\n",
       "      <td>...</td>\n",
       "      <td>...</td>\n",
       "    </tr>\n",
       "    <tr>\n",
       "      <th>2021-07-27</th>\n",
       "      <td>0.000000</td>\n",
       "      <td>110.086308</td>\n",
       "    </tr>\n",
       "    <tr>\n",
       "      <th>2021-07-28</th>\n",
       "      <td>93.590965</td>\n",
       "      <td>177.128897</td>\n",
       "    </tr>\n",
       "    <tr>\n",
       "      <th>2021-07-29</th>\n",
       "      <td>2.057747</td>\n",
       "      <td>141.504516</td>\n",
       "    </tr>\n",
       "    <tr>\n",
       "      <th>2021-07-30</th>\n",
       "      <td>214.854246</td>\n",
       "      <td>288.407755</td>\n",
       "    </tr>\n",
       "    <tr>\n",
       "      <th>2021-07-31</th>\n",
       "      <td>42.758030</td>\n",
       "      <td>160.029631</td>\n",
       "    </tr>\n",
       "  </tbody>\n",
       "</table>\n",
       "<p>151 rows × 2 columns</p>\n",
       "</div>"
      ],
      "text/plain": [
       "            energi [kWh]  pred energi [kWh]\n",
       "Time                                       \n",
       "2021-03-03      0.000000         114.647936\n",
       "2021-03-04    127.112732         332.783125\n",
       "2021-03-05    131.633527         343.666286\n",
       "2021-03-06      1.094667         173.596549\n",
       "2021-03-07    114.626097         317.516674\n",
       "...                  ...                ...\n",
       "2021-07-27      0.000000         110.086308\n",
       "2021-07-28     93.590965         177.128897\n",
       "2021-07-29      2.057747         141.504516\n",
       "2021-07-30    214.854246         288.407755\n",
       "2021-07-31     42.758030         160.029631\n",
       "\n",
       "[151 rows x 2 columns]"
      ]
     },
     "execution_count": 133,
     "metadata": {},
     "output_type": "execute_result"
    }
   ],
   "source": [
    "data_per_dag = data.resample(\"1D\").sum()\n",
    "data_per_dag[[\"energi [kWh]\", \"pred energi [kWh]\"]]"
   ]
  },
  {
   "cell_type": "code",
   "execution_count": 130,
   "id": "21fcc38d",
   "metadata": {},
   "outputs": [
    {
     "data": {
      "text/plain": [
       "(0.0, 450.0)"
      ]
     },
     "execution_count": 130,
     "metadata": {},
     "output_type": "execute_result"
    },
    {
     "data": {
      "image/png": "[encoded data removed]",
      "text/plain": [
       "<Figure size 432x288 with 1 Axes>"
      ]
     },
     "metadata": {
      "needs_background": "light"
     },
     "output_type": "display_data"
    }
   ],
   "source": [
    "plt.scatter(data_per_dag[\"energi [kWh]\"], data_per_dag[\"pred energi [kWh]\"])\n",
    "plt.xlabel(\"Målt energi [kWh]\")\n",
    "plt.ylabel(\"Predikert energi [kWh]\")\n",
    "plt.title(\"Målt verdier mot predikert verdier\")\n",
    "plt.grid()\n",
    "plt.ylim(0,450)\n",
    "plt.xlim(0,450)"
   ]
  },
  {
   "cell_type": "code",
   "execution_count": 134,
   "id": "1f5970eb",
   "metadata": {},
   "outputs": [
    {
     "data": {
      "text/plain": [
       "(0.0, 450.0)"
      ]
     },
     "execution_count": 134,
     "metadata": {},
     "output_type": "execute_result"
    },
    {
     "data": {
      "image/png": "[encoded data removed]",
      "text/plain": [
       "<Figure size 432x288 with 1 Axes>"
      ]
     },
     "metadata": {
      "needs_background": "light"
     },
     "output_type": "display_data"
    }
   ],
   "source": [
    "plt.scatter(data_per_dag[\"energi [kWh]\"], data_per_dag[\"dårligmodell [kWh]\"])\n",
    "plt.xlabel(\"Målt energi [kWh]\")\n",
    "plt.ylabel(\"Predikert energi med dårlig modell [kWh]\")\n",
    "plt.title(\"Målt verdier mot predikert dårlig verdier\")\n",
    "plt.grid()\n",
    "plt.ylim(0,450)\n",
    "plt.xlim(0,450)"
   ]
  },
  {
   "cell_type": "code",
   "execution_count": 137,
   "id": "cc798b76",
   "metadata": {},
   "outputs": [
    {
     "data": {
      "text/plain": [
       "304.6758722677207"
      ]
     },
     "execution_count": 137,
     "metadata": {},
     "output_type": "execute_result"
    }
   ],
   "source": [
    "data_per_dag[\"energi [kWh]\"].sum()/67.2"
   ]
  },
  {
   "cell_type": "code",
   "execution_count": null,
   "id": "e073c348",
   "metadata": {},
   "outputs": [],
   "source": []
  }
 ],
 "metadata": {
  "kernelspec": {
   "display_name": "Python 3",
   "language": "python",
   "name": "python3"
  },
  "language_info": {
   "codemirror_mode": {
    "name": "ipython",
    "version": 3
   },
   "file_extension": ".py",
   "mimetype": "text/x-python",
   "name": "python",
   "nbconvert_exporter": "python",
   "pygments_lexer": "ipython3",
   "version": "3.7.7"
  }
 },
 "nbformat": 4,
 "nbformat_minor": 5
}
